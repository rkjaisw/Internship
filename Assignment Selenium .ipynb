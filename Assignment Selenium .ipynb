{
 "cells": [
  {
   "cell_type": "markdown",
   "id": "bc76e19f",
   "metadata": {},
   "source": [
    "Q1: Write a python program to scrape data for “Data Analyst” Job position in “Bangalore” location. You\n",
    "have to scrape the job-title, job-location, company_name, experience_required. You have to scrape first 10\n",
    "jobs data.\n",
    "This task will be done in following steps:\n",
    "1. First get the webpage https://www.naukri.com/\n",
    "2. Enter “Data Analyst” in “Skill, Designations, Companies” field and enter “Bangalore” in “enter the\n",
    "location” field.\n",
    "3. Then click the search button.\n",
    "4. Then scrape the data for the first 10 jobs results you get.\n",
    "5. Finally create a dataframe of the scraped data.\n",
    "Note: All of the above steps have to be done in code. No step is to be done manually."
   ]
  },
  {
   "cell_type": "code",
   "execution_count": 1,
   "id": "f32ccc38",
   "metadata": {},
   "outputs": [
    {
     "name": "stdout",
     "output_type": "stream",
     "text": [
      "Requirement already satisfied: selenium in c:\\users\\shalini\\anaconda3\\lib\\site-packages (4.9.1)\n",
      "Requirement already satisfied: urllib3[socks]<3,>=1.26 in c:\\users\\shalini\\anaconda3\\lib\\site-packages (from selenium) (1.26.11)\n",
      "Requirement already satisfied: certifi>=2021.10.8 in c:\\users\\shalini\\anaconda3\\lib\\site-packages (from selenium) (2022.9.14)\n",
      "Requirement already satisfied: trio-websocket~=0.9 in c:\\users\\shalini\\anaconda3\\lib\\site-packages (from selenium) (0.10.2)\n",
      "Requirement already satisfied: trio~=0.17 in c:\\users\\shalini\\anaconda3\\lib\\site-packages (from selenium) (0.22.0)\n",
      "Requirement already satisfied: outcome in c:\\users\\shalini\\anaconda3\\lib\\site-packages (from trio~=0.17->selenium) (1.2.0)\n",
      "Requirement already satisfied: attrs>=19.2.0 in c:\\users\\shalini\\anaconda3\\lib\\site-packages (from trio~=0.17->selenium) (21.4.0)\n",
      "Requirement already satisfied: exceptiongroup>=1.0.0rc9 in c:\\users\\shalini\\anaconda3\\lib\\site-packages (from trio~=0.17->selenium) (1.1.1)\n",
      "Requirement already satisfied: cffi>=1.14 in c:\\users\\shalini\\anaconda3\\lib\\site-packages (from trio~=0.17->selenium) (1.15.1)\n",
      "Requirement already satisfied: idna in c:\\users\\shalini\\anaconda3\\lib\\site-packages (from trio~=0.17->selenium) (3.3)\n",
      "Requirement already satisfied: sortedcontainers in c:\\users\\shalini\\anaconda3\\lib\\site-packages (from trio~=0.17->selenium) (2.4.0)\n",
      "Requirement already satisfied: sniffio in c:\\users\\shalini\\anaconda3\\lib\\site-packages (from trio~=0.17->selenium) (1.2.0)\n",
      "Requirement already satisfied: async-generator>=1.9 in c:\\users\\shalini\\anaconda3\\lib\\site-packages (from trio~=0.17->selenium) (1.10)\n",
      "Requirement already satisfied: wsproto>=0.14 in c:\\users\\shalini\\anaconda3\\lib\\site-packages (from trio-websocket~=0.9->selenium) (1.2.0)\n",
      "Requirement already satisfied: PySocks!=1.5.7,<2.0,>=1.5.6 in c:\\users\\shalini\\anaconda3\\lib\\site-packages (from urllib3[socks]<3,>=1.26->selenium) (1.7.1)\n",
      "Requirement already satisfied: pycparser in c:\\users\\shalini\\anaconda3\\lib\\site-packages (from cffi>=1.14->trio~=0.17->selenium) (2.21)\n",
      "Requirement already satisfied: h11<1,>=0.9.0 in c:\\users\\shalini\\anaconda3\\lib\\site-packages (from wsproto>=0.14->trio-websocket~=0.9->selenium) (0.14.0)\n"
     ]
    }
   ],
   "source": [
    "!pip install selenium"
   ]
  },
  {
   "cell_type": "code",
   "execution_count": 4,
   "id": "77ecce60",
   "metadata": {},
   "outputs": [],
   "source": [
    "import selenium\n",
    "import pandas as pd\n",
    "from selenium import webdriver\n",
    "import warnings\n",
    "warnings.filterwarnings('ignore')\n",
    "from selenium.webdriver.common.by import By\n",
    "import time"
   ]
  },
  {
   "cell_type": "code",
   "execution_count": 54,
   "id": "9093b22a",
   "metadata": {},
   "outputs": [],
   "source": [
    "driver = webdriver.Chrome(r\"chromedriver.exe\")"
   ]
  },
  {
   "cell_type": "code",
   "execution_count": 55,
   "id": "bc551e3f",
   "metadata": {},
   "outputs": [],
   "source": [
    "#Opening the Naukri page on automated chrome browser\n",
    "driver.get(\"https://www.naukri.com/\")"
   ]
  },
  {
   "cell_type": "code",
   "execution_count": 56,
   "id": "97e1daa2",
   "metadata": {},
   "outputs": [],
   "source": [
    "# Entering desgination and location as required in the question-\n",
    "\n",
    "designation=driver.find_element(By.CLASS_NAME,\"suggestor-input\")\n",
    "designation.send_keys('Data Analyst')"
   ]
  },
  {
   "cell_type": "code",
   "execution_count": 58,
   "id": "727f67fb",
   "metadata": {},
   "outputs": [],
   "source": [
    "location=driver.find_element(By.XPATH,\"/html/body/div[1]/div[7]/div/div/div[5]/div/div/div/div[1]/div/input\")\n",
    "location.send_keys('Bangalore')"
   ]
  },
  {
   "cell_type": "code",
   "execution_count": 59,
   "id": "391d58e3",
   "metadata": {},
   "outputs": [],
   "source": [
    "search=driver.find_element(By.CLASS_NAME,\"qsbSubmit\")\n",
    "search.click()"
   ]
  },
  {
   "cell_type": "code",
   "execution_count": 13,
   "id": "ce749040",
   "metadata": {},
   "outputs": [],
   "source": [
    "job_title=[]\n",
    "job_location=[]\n",
    "company_name=[]\n",
    "experience_required=[]"
   ]
  },
  {
   "cell_type": "code",
   "execution_count": 24,
   "id": "25222394",
   "metadata": {},
   "outputs": [],
   "source": [
    "#Scraping Job title from the given page\n",
    "title_tags=driver.find_elements(By.XPATH,'//a[@class=\"title ellipsis\"]')\n",
    "for i in title_tags[0:10]:\n",
    "    title=i.text\n",
    "    job_title.append(title)\n",
    "    \n",
    "#Scraping the job location from the given page\n",
    "location_tags=driver.find_elements(By.XPATH,'//span[@class=\"ellipsis fleft locWdth\"]')\n",
    "for i in location_tags[0:10]:\n",
    "    location=i.text\n",
    "    job_location.append(location)\n",
    "    \n",
    "#Scraping company name from the given page\n",
    "company_tags=driver.find_elements(By.XPATH,'//a[@class=\"subTitle ellipsis fleft\"]')\n",
    "for i in company_tags[0:10]:\n",
    "    company=i.text\n",
    "    company_name.append(company)\n",
    "    \n",
    "#scraping job experience from the given page\n",
    "experience_tags=driver.find_elements(By.XPATH,'//span[@class=\"ellipsis fleft expwdth\"]')\n",
    "for i in experience_tags[0:10]:\n",
    "    exp=i.text\n",
    "    experience_required.append(exp)"
   ]
  },
  {
   "cell_type": "code",
   "execution_count": 25,
   "id": "28dc3652",
   "metadata": {},
   "outputs": [
    {
     "name": "stdout",
     "output_type": "stream",
     "text": [
      "10 10 10 10\n"
     ]
    }
   ],
   "source": [
    "print(len(job_title),len(job_location),len(company_name),len(experience_required))"
   ]
  },
  {
   "cell_type": "code",
   "execution_count": 26,
   "id": "d46a6435",
   "metadata": {},
   "outputs": [
    {
     "data": {
      "text/html": [
       "<div>\n",
       "<style scoped>\n",
       "    .dataframe tbody tr th:only-of-type {\n",
       "        vertical-align: middle;\n",
       "    }\n",
       "\n",
       "    .dataframe tbody tr th {\n",
       "        vertical-align: top;\n",
       "    }\n",
       "\n",
       "    .dataframe thead th {\n",
       "        text-align: right;\n",
       "    }\n",
       "</style>\n",
       "<table border=\"1\" class=\"dataframe\">\n",
       "  <thead>\n",
       "    <tr style=\"text-align: right;\">\n",
       "      <th></th>\n",
       "      <th>Title</th>\n",
       "      <th>location</th>\n",
       "      <th>Company_name</th>\n",
       "      <th>Experience</th>\n",
       "    </tr>\n",
       "  </thead>\n",
       "  <tbody>\n",
       "    <tr>\n",
       "      <th>0</th>\n",
       "      <td>Tech Data Analyst</td>\n",
       "      <td>Hybrid - Gurgaon/ Gurugram, Haryana, Bangalore...</td>\n",
       "      <td>Wipro</td>\n",
       "      <td>3-6 Yrs</td>\n",
       "    </tr>\n",
       "    <tr>\n",
       "      <th>1</th>\n",
       "      <td>Data Analyst</td>\n",
       "      <td>Chennai</td>\n",
       "      <td>Danfoss</td>\n",
       "      <td>0-5 Yrs</td>\n",
       "    </tr>\n",
       "    <tr>\n",
       "      <th>2</th>\n",
       "      <td>Data Analyst - FinTech</td>\n",
       "      <td>Noida, Ghaziabad, Faridabad, Gurgaon/Gurugram</td>\n",
       "      <td>Primo Hiring</td>\n",
       "      <td>1-3 Yrs</td>\n",
       "    </tr>\n",
       "    <tr>\n",
       "      <th>3</th>\n",
       "      <td>Data Analyst</td>\n",
       "      <td>Ahmedabad(Vatva)</td>\n",
       "      <td>Freelancer Komal Mittal</td>\n",
       "      <td>2-5 Yrs</td>\n",
       "    </tr>\n",
       "    <tr>\n",
       "      <th>4</th>\n",
       "      <td>Data Analyst</td>\n",
       "      <td>Gurgaon/ Gurugram, Haryana</td>\n",
       "      <td>Dr Lal PathLabs</td>\n",
       "      <td>3-6 Yrs</td>\n",
       "    </tr>\n",
       "    <tr>\n",
       "      <th>5</th>\n",
       "      <td>Data Analyst</td>\n",
       "      <td>Mumbai</td>\n",
       "      <td>Dream11</td>\n",
       "      <td>0-3 Yrs</td>\n",
       "    </tr>\n",
       "    <tr>\n",
       "      <th>6</th>\n",
       "      <td>Data Analyst</td>\n",
       "      <td>New Delhi</td>\n",
       "      <td>Timble Technologies</td>\n",
       "      <td>0-2 Yrs</td>\n",
       "    </tr>\n",
       "    <tr>\n",
       "      <th>7</th>\n",
       "      <td>Data Analyst</td>\n",
       "      <td>Mumbai</td>\n",
       "      <td>Everyday Health India</td>\n",
       "      <td>0-3 Yrs</td>\n",
       "    </tr>\n",
       "    <tr>\n",
       "      <th>8</th>\n",
       "      <td>Data Analyst</td>\n",
       "      <td>Mumbai</td>\n",
       "      <td>Schneider Electric</td>\n",
       "      <td>7-15 Yrs</td>\n",
       "    </tr>\n",
       "    <tr>\n",
       "      <th>9</th>\n",
       "      <td>Hiring For Data Analyst</td>\n",
       "      <td>Remote</td>\n",
       "      <td>Infogain</td>\n",
       "      <td>3-5 Yrs</td>\n",
       "    </tr>\n",
       "  </tbody>\n",
       "</table>\n",
       "</div>"
      ],
      "text/plain": [
       "                     Title                                           location  \\\n",
       "0        Tech Data Analyst  Hybrid - Gurgaon/ Gurugram, Haryana, Bangalore...   \n",
       "1             Data Analyst                                            Chennai   \n",
       "2   Data Analyst - FinTech      Noida, Ghaziabad, Faridabad, Gurgaon/Gurugram   \n",
       "3             Data Analyst                                   Ahmedabad(Vatva)   \n",
       "4             Data Analyst                         Gurgaon/ Gurugram, Haryana   \n",
       "5             Data Analyst                                             Mumbai   \n",
       "6             Data Analyst                                          New Delhi   \n",
       "7             Data Analyst                                             Mumbai   \n",
       "8             Data Analyst                                             Mumbai   \n",
       "9  Hiring For Data Analyst                                             Remote   \n",
       "\n",
       "              Company_name Experience  \n",
       "0                    Wipro    3-6 Yrs  \n",
       "1                  Danfoss    0-5 Yrs  \n",
       "2             Primo Hiring    1-3 Yrs  \n",
       "3  Freelancer Komal Mittal    2-5 Yrs  \n",
       "4          Dr Lal PathLabs    3-6 Yrs  \n",
       "5                  Dream11    0-3 Yrs  \n",
       "6      Timble Technologies    0-2 Yrs  \n",
       "7    Everyday Health India    0-3 Yrs  \n",
       "8       Schneider Electric   7-15 Yrs  \n",
       "9                 Infogain    3-5 Yrs  "
      ]
     },
     "execution_count": 26,
     "metadata": {},
     "output_type": "execute_result"
    }
   ],
   "source": [
    "import pandas as pd\n",
    "df=pd.DataFrame({'Title':job_title,'location':job_location,'Company_name':company_name,'Experience':experience_required})\n",
    "df"
   ]
  },
  {
   "cell_type": "markdown",
   "id": "6ff4f1d5",
   "metadata": {},
   "source": [
    "Q2: Write a python program to scrape data for “Data Scientist” Job position in “Bangalore” location. You\n",
    "have to scrape the job-title, job-location, company_name. You have to scrape first 10 jobs data.\n",
    "This task will be done in following steps:\n",
    "1. First get the webpage https://www.naukri.com/\n",
    "2. Enter “Data Scientist” in “Skill, Designations, Companies” field and enter “Bangalore” in “enter the\n",
    "location” field.\n",
    "3. Then click the search button.\n",
    "4. Then scrape the data for the first 10 jobs results youget.\n",
    "5. Finally create a dataframe of the scraped data."
   ]
  },
  {
   "cell_type": "code",
   "execution_count": 1,
   "id": "30e81688",
   "metadata": {},
   "outputs": [
    {
     "name": "stdout",
     "output_type": "stream",
     "text": [
      "Requirement already satisfied: selenium in c:\\users\\shalini\\anaconda3\\lib\\site-packages (4.9.1)\n",
      "Requirement already satisfied: urllib3[socks]<3,>=1.26 in c:\\users\\shalini\\anaconda3\\lib\\site-packages (from selenium) (1.26.11)\n",
      "Requirement already satisfied: trio~=0.17 in c:\\users\\shalini\\anaconda3\\lib\\site-packages (from selenium) (0.22.0)\n",
      "Requirement already satisfied: certifi>=2021.10.8 in c:\\users\\shalini\\anaconda3\\lib\\site-packages (from selenium) (2022.9.14)\n",
      "Requirement already satisfied: trio-websocket~=0.9 in c:\\users\\shalini\\anaconda3\\lib\\site-packages (from selenium) (0.10.2)\n",
      "Requirement already satisfied: sniffio in c:\\users\\shalini\\anaconda3\\lib\\site-packages (from trio~=0.17->selenium) (1.2.0)\n",
      "Requirement already satisfied: idna in c:\\users\\shalini\\anaconda3\\lib\\site-packages (from trio~=0.17->selenium) (3.3)\n",
      "Requirement already satisfied: attrs>=19.2.0 in c:\\users\\shalini\\anaconda3\\lib\\site-packages (from trio~=0.17->selenium) (21.4.0)\n",
      "Requirement already satisfied: outcome in c:\\users\\shalini\\anaconda3\\lib\\site-packages (from trio~=0.17->selenium) (1.2.0)\n",
      "Requirement already satisfied: sortedcontainers in c:\\users\\shalini\\anaconda3\\lib\\site-packages (from trio~=0.17->selenium) (2.4.0)\n",
      "Requirement already satisfied: async-generator>=1.9 in c:\\users\\shalini\\anaconda3\\lib\\site-packages (from trio~=0.17->selenium) (1.10)\n",
      "Requirement already satisfied: exceptiongroup>=1.0.0rc9 in c:\\users\\shalini\\anaconda3\\lib\\site-packages (from trio~=0.17->selenium) (1.1.1)\n",
      "Requirement already satisfied: cffi>=1.14 in c:\\users\\shalini\\anaconda3\\lib\\site-packages (from trio~=0.17->selenium) (1.15.1)\n",
      "Requirement already satisfied: wsproto>=0.14 in c:\\users\\shalini\\anaconda3\\lib\\site-packages (from trio-websocket~=0.9->selenium) (1.2.0)\n",
      "Requirement already satisfied: PySocks!=1.5.7,<2.0,>=1.5.6 in c:\\users\\shalini\\anaconda3\\lib\\site-packages (from urllib3[socks]<3,>=1.26->selenium) (1.7.1)\n",
      "Requirement already satisfied: pycparser in c:\\users\\shalini\\anaconda3\\lib\\site-packages (from cffi>=1.14->trio~=0.17->selenium) (2.21)\n",
      "Requirement already satisfied: h11<1,>=0.9.0 in c:\\users\\shalini\\anaconda3\\lib\\site-packages (from wsproto>=0.14->trio-websocket~=0.9->selenium) (0.14.0)\n"
     ]
    }
   ],
   "source": [
    "!pip install selenium"
   ]
  },
  {
   "cell_type": "code",
   "execution_count": 2,
   "id": "bfb5329d",
   "metadata": {},
   "outputs": [],
   "source": [
    "import selenium\n",
    "import pandas as pd\n",
    "from selenium import webdriver\n",
    "import warnings\n",
    "warnings.filterwarnings('ignore')\n",
    "from selenium.webdriver.common.by import By\n",
    "import time"
   ]
  },
  {
   "cell_type": "code",
   "execution_count": 3,
   "id": "4c887aee",
   "metadata": {},
   "outputs": [],
   "source": [
    "driver = webdriver.Chrome(r\"chromedriver.exe\")"
   ]
  },
  {
   "cell_type": "code",
   "execution_count": 4,
   "id": "0b5c394f",
   "metadata": {},
   "outputs": [],
   "source": [
    "#Opening the Naukri page on automated chrome browser\n",
    "driver.get(\"https://www.naukri.com/\")"
   ]
  },
  {
   "cell_type": "code",
   "execution_count": 5,
   "id": "06d86a66",
   "metadata": {},
   "outputs": [],
   "source": [
    "# Entering desgination and location as required in the question-\n",
    "\n",
    "designation=driver.find_element(By.CLASS_NAME,\"suggestor-input\")\n",
    "designation.send_keys('Data Scientist')"
   ]
  },
  {
   "cell_type": "code",
   "execution_count": 11,
   "id": "22fbe292",
   "metadata": {},
   "outputs": [],
   "source": [
    "location=driver.find_element(By.XPATH,\"/html/body/div[1]/div[6]/div/div[1]/div[5]/div/div/div/div[1]/div/input\")\n",
    "location.send_keys('Bangalore')"
   ]
  },
  {
   "cell_type": "code",
   "execution_count": 12,
   "id": "ba858f27",
   "metadata": {},
   "outputs": [],
   "source": [
    "search=driver.find_element(By.CLASS_NAME,\"qsbSubmit\")\n",
    "search.click()"
   ]
  },
  {
   "cell_type": "code",
   "execution_count": 13,
   "id": "6834048e",
   "metadata": {},
   "outputs": [],
   "source": [
    "job_title=[]\n",
    "job_location=[]\n",
    "company_name=[]"
   ]
  },
  {
   "cell_type": "code",
   "execution_count": 14,
   "id": "f94f0962",
   "metadata": {},
   "outputs": [],
   "source": [
    "#Scraping Job title from the given page\n",
    "title_tags=driver.find_elements(By.XPATH,'//a[@class=\"title ellipsis\"]')\n",
    "for i in title_tags[0:10]:\n",
    "    title=i.text\n",
    "    job_title.append(title)\n",
    "    \n",
    "#Scraping the job location from the given page\n",
    "location_tags=driver.find_elements(By.XPATH,'//span[@class=\"ellipsis fleft locWdth\"]')\n",
    "for i in location_tags[0:10]:\n",
    "    location=i.text\n",
    "    job_location.append(location)\n",
    "    \n",
    "#Scraping company name from the given page\n",
    "company_tags=driver.find_elements(By.XPATH,'//a[@class=\"subTitle ellipsis fleft\"]')\n",
    "for i in company_tags[0:10]:\n",
    "    company=i.text\n",
    "    company_name.append(company)"
   ]
  },
  {
   "cell_type": "code",
   "execution_count": 16,
   "id": "28870f1e",
   "metadata": {},
   "outputs": [
    {
     "name": "stdout",
     "output_type": "stream",
     "text": [
      "10 10 10\n"
     ]
    }
   ],
   "source": [
    "print(len(job_title),len(job_location),len(company_name))"
   ]
  },
  {
   "cell_type": "code",
   "execution_count": 17,
   "id": "602eea50",
   "metadata": {},
   "outputs": [
    {
     "data": {
      "text/html": [
       "<div>\n",
       "<style scoped>\n",
       "    .dataframe tbody tr th:only-of-type {\n",
       "        vertical-align: middle;\n",
       "    }\n",
       "\n",
       "    .dataframe tbody tr th {\n",
       "        vertical-align: top;\n",
       "    }\n",
       "\n",
       "    .dataframe thead th {\n",
       "        text-align: right;\n",
       "    }\n",
       "</style>\n",
       "<table border=\"1\" class=\"dataframe\">\n",
       "  <thead>\n",
       "    <tr style=\"text-align: right;\">\n",
       "      <th></th>\n",
       "      <th>Title</th>\n",
       "      <th>location</th>\n",
       "      <th>Company_name</th>\n",
       "    </tr>\n",
       "  </thead>\n",
       "  <tbody>\n",
       "    <tr>\n",
       "      <th>0</th>\n",
       "      <td>Permanent Opportunity - Data Scientist(Snaplog...</td>\n",
       "      <td>Hybrid - Bangalore/Bengaluru, Kolkata, Hyderab...</td>\n",
       "      <td>Deloitte</td>\n",
       "    </tr>\n",
       "    <tr>\n",
       "      <th>1</th>\n",
       "      <td>Analystics &amp; Modeling Specialist</td>\n",
       "      <td>Bangalore/Bengaluru, Kolkata, Mumbai, Hyderaba...</td>\n",
       "      <td>Accenture</td>\n",
       "    </tr>\n",
       "    <tr>\n",
       "      <th>2</th>\n",
       "      <td>Machine Learning (AI) Architect</td>\n",
       "      <td>Bangalore/Bengaluru, Kolkata, Mumbai, New Delh...</td>\n",
       "      <td>Persistent</td>\n",
       "    </tr>\n",
       "    <tr>\n",
       "      <th>3</th>\n",
       "      <td>Staff Data Scientist</td>\n",
       "      <td>Bangalore/Bengaluru</td>\n",
       "      <td>Walmart</td>\n",
       "    </tr>\n",
       "    <tr>\n",
       "      <th>4</th>\n",
       "      <td>Data Scientist</td>\n",
       "      <td>Bangalore/ Bengaluru, Karnataka</td>\n",
       "      <td>Tata Consultancy Services (TCS)</td>\n",
       "    </tr>\n",
       "    <tr>\n",
       "      <th>5</th>\n",
       "      <td>Senior Data Scientist</td>\n",
       "      <td>Bangalore/Bengaluru</td>\n",
       "      <td>Walmart</td>\n",
       "    </tr>\n",
       "    <tr>\n",
       "      <th>6</th>\n",
       "      <td>Data Scientist</td>\n",
       "      <td>Bangalore/Bengaluru</td>\n",
       "      <td>Walmart</td>\n",
       "    </tr>\n",
       "    <tr>\n",
       "      <th>7</th>\n",
       "      <td>Hiring For Data Scientist</td>\n",
       "      <td>Hybrid - Bangalore/ Bengaluru, Karnataka, Hyde...</td>\n",
       "      <td>Tata Consultancy Services (TCS)</td>\n",
       "    </tr>\n",
       "    <tr>\n",
       "      <th>8</th>\n",
       "      <td>Data Scientist</td>\n",
       "      <td>Hybrid - Bangalore/Bengaluru, Pune, Delhi / NC...</td>\n",
       "      <td>Infogain</td>\n",
       "    </tr>\n",
       "    <tr>\n",
       "      <th>9</th>\n",
       "      <td>Data Scientist</td>\n",
       "      <td>Bangalore/Bengaluru, Kolkata, Mumbai, New Delh...</td>\n",
       "      <td>IBS Software Services</td>\n",
       "    </tr>\n",
       "  </tbody>\n",
       "</table>\n",
       "</div>"
      ],
      "text/plain": [
       "                                               Title  \\\n",
       "0  Permanent Opportunity - Data Scientist(Snaplog...   \n",
       "1                   Analystics & Modeling Specialist   \n",
       "2                    Machine Learning (AI) Architect   \n",
       "3                               Staff Data Scientist   \n",
       "4                                     Data Scientist   \n",
       "5                              Senior Data Scientist   \n",
       "6                                     Data Scientist   \n",
       "7                          Hiring For Data Scientist   \n",
       "8                                     Data Scientist   \n",
       "9                                     Data Scientist   \n",
       "\n",
       "                                            location  \\\n",
       "0  Hybrid - Bangalore/Bengaluru, Kolkata, Hyderab...   \n",
       "1  Bangalore/Bengaluru, Kolkata, Mumbai, Hyderaba...   \n",
       "2  Bangalore/Bengaluru, Kolkata, Mumbai, New Delh...   \n",
       "3                                Bangalore/Bengaluru   \n",
       "4                    Bangalore/ Bengaluru, Karnataka   \n",
       "5                                Bangalore/Bengaluru   \n",
       "6                                Bangalore/Bengaluru   \n",
       "7  Hybrid - Bangalore/ Bengaluru, Karnataka, Hyde...   \n",
       "8  Hybrid - Bangalore/Bengaluru, Pune, Delhi / NC...   \n",
       "9  Bangalore/Bengaluru, Kolkata, Mumbai, New Delh...   \n",
       "\n",
       "                      Company_name  \n",
       "0                         Deloitte  \n",
       "1                        Accenture  \n",
       "2                       Persistent  \n",
       "3                          Walmart  \n",
       "4  Tata Consultancy Services (TCS)  \n",
       "5                          Walmart  \n",
       "6                          Walmart  \n",
       "7  Tata Consultancy Services (TCS)  \n",
       "8                         Infogain  \n",
       "9            IBS Software Services  "
      ]
     },
     "execution_count": 17,
     "metadata": {},
     "output_type": "execute_result"
    }
   ],
   "source": [
    "import pandas as pd\n",
    "df=pd.DataFrame({'Title':job_title,'location':job_location,'Company_name':company_name,})\n",
    "df"
   ]
  },
  {
   "cell_type": "markdown",
   "id": "f47576b4",
   "metadata": {},
   "source": [
    "Qus:3 In this question you have to scrape data using the filters available on the webpage as shown below:\n",
    "    You have to use the location and salary filter.\n",
    "You have to scrape data for “Data Scientist” designation for first 10 job results.\n",
    "You have to scrape the job-title, job-location, company name, experience required.\n",
    "The location filter to be used is “Delhi/NCR”. The salary filter to be used is “3-6” lakhs\n",
    "The task will be done as shown in the below steps:\n",
    "1. first get thewebpage https://www.naukri.com/\n",
    "2. Enter “Data Scientist” in “Skill, Designations, and Companies” field.\n",
    "3. Then click the searchbutton.\n",
    "4. Then apply the location filter and salary filter by checking the respective boxes\n",
    "5. Then scrape the data for the first 10 jobs results youget.\n",
    "6. Finally create a dataframe of the scraped data.\n",
    "Note: All of the above steps have to be done in code. No step is to be done manually."
   ]
  },
  {
   "cell_type": "code",
   "execution_count": 5,
   "id": "c4ba43d8",
   "metadata": {},
   "outputs": [],
   "source": [
    "#Lets first connect to the web driver.\n",
    "driver = webdriver.Chrome(r\"chromedriver.exe\")"
   ]
  },
  {
   "cell_type": "code",
   "execution_count": 25,
   "id": "7598f83d",
   "metadata": {},
   "outputs": [],
   "source": [
    "#Opening the Naukri page on automated chrome browser\n",
    "driver.get(\"https://www.naukri.com/\")"
   ]
  },
  {
   "cell_type": "code",
   "execution_count": 26,
   "id": "b175f249",
   "metadata": {},
   "outputs": [],
   "source": [
    "# Entering desgination and location as required in the question-\n",
    "\n",
    "designation=driver.find_element(By.CLASS_NAME,\"suggestor-input\")\n",
    "designation.send_keys('Data Scientist')"
   ]
  },
  {
   "cell_type": "code",
   "execution_count": 28,
   "id": "d08ef834",
   "metadata": {},
   "outputs": [],
   "source": [
    "location=driver.find_element(By.XPATH,\"/html/body/div[1]/div[6]/div/div/div[5]/div/div/div/div[1]/div/input\")\n",
    "location.send_keys('Delhi/NCR')"
   ]
  },
  {
   "cell_type": "code",
   "execution_count": 29,
   "id": "f421fc64",
   "metadata": {},
   "outputs": [],
   "source": [
    "search=driver.find_element(By.CLASS_NAME,\"qsbSubmit\")\n",
    "search.click()"
   ]
  },
  {
   "cell_type": "code",
   "execution_count": 30,
   "id": "de4cb43f",
   "metadata": {},
   "outputs": [],
   "source": [
    "job_title=[]\n",
    "job_location=[]\n",
    "company_name=[]\n",
    "experience_required=[]"
   ]
  },
  {
   "cell_type": "code",
   "execution_count": 31,
   "id": "0dce9fc9",
   "metadata": {},
   "outputs": [],
   "source": [
    "#Scraping Job title from the given page\n",
    "title_tags=driver.find_elements(By.XPATH,'//a[@class=\"title ellipsis\"]')\n",
    "for i in title_tags[0:10]:\n",
    "    title=i.text\n",
    "    job_title.append(title)\n",
    "    \n",
    "#Scraping the job location from the given page\n",
    "location_tags=driver.find_elements(By.XPATH,'//span[@class=\"ellipsis fleft locWdth\"]')\n",
    "for i in location_tags[0:10]:\n",
    "    location=i.text\n",
    "    job_location.append(location)\n",
    "    \n",
    "#Scraping company name from the given page\n",
    "company_tags=driver.find_elements(By.XPATH,'//a[@class=\"subTitle ellipsis fleft\"]')\n",
    "for i in company_tags[0:10]:\n",
    "    company=i.text\n",
    "    company_name.append(company)\n",
    "    \n",
    "#scraping job experience from the given page\n",
    "experience_tags=driver.find_elements(By.XPATH,'//span[@class=\"ellipsis fleft expwdth\"]')\n",
    "for i in experience_tags[0:10]:\n",
    "    exp=i.text\n",
    "    experience_required.append(exp)"
   ]
  },
  {
   "cell_type": "code",
   "execution_count": 32,
   "id": "832e761d",
   "metadata": {},
   "outputs": [
    {
     "name": "stdout",
     "output_type": "stream",
     "text": [
      "10 10 10 10\n"
     ]
    }
   ],
   "source": [
    "print(len(job_title),len(job_location),len(company_name),len(experience_required))"
   ]
  },
  {
   "cell_type": "code",
   "execution_count": 34,
   "id": "6d36921f",
   "metadata": {},
   "outputs": [
    {
     "data": {
      "text/html": [
       "<div>\n",
       "<style scoped>\n",
       "    .dataframe tbody tr th:only-of-type {\n",
       "        vertical-align: middle;\n",
       "    }\n",
       "\n",
       "    .dataframe tbody tr th {\n",
       "        vertical-align: top;\n",
       "    }\n",
       "\n",
       "    .dataframe thead th {\n",
       "        text-align: right;\n",
       "    }\n",
       "</style>\n",
       "<table border=\"1\" class=\"dataframe\">\n",
       "  <thead>\n",
       "    <tr style=\"text-align: right;\">\n",
       "      <th></th>\n",
       "      <th>Title</th>\n",
       "      <th>location</th>\n",
       "      <th>Company_name</th>\n",
       "      <th>Experience</th>\n",
       "    </tr>\n",
       "  </thead>\n",
       "  <tbody>\n",
       "    <tr>\n",
       "      <th>0</th>\n",
       "      <td>Permanent Opportunity - Data Scientist(Snaplog...</td>\n",
       "      <td>Hybrid - Delhi / NCR, Kolkata, Hyderabad/Secun...</td>\n",
       "      <td>Deloitte</td>\n",
       "      <td>9-14 Yrs</td>\n",
       "    </tr>\n",
       "    <tr>\n",
       "      <th>1</th>\n",
       "      <td>Machine Learning (AI) Architect</td>\n",
       "      <td>Kolkata, Mumbai, New Delhi, Hyderabad/Secunder...</td>\n",
       "      <td>Persistent</td>\n",
       "      <td>5-12 Yrs</td>\n",
       "    </tr>\n",
       "    <tr>\n",
       "      <th>2</th>\n",
       "      <td>Data Scientist</td>\n",
       "      <td>Hybrid - Delhi / NCR, Pune, Bangalore/Bengalur...</td>\n",
       "      <td>Infogain</td>\n",
       "      <td>3-6 Yrs</td>\n",
       "    </tr>\n",
       "    <tr>\n",
       "      <th>3</th>\n",
       "      <td>Data Scientist</td>\n",
       "      <td>Kolkata, Mumbai, New Delhi, Hyderabad/Secunder...</td>\n",
       "      <td>IBS Software Services</td>\n",
       "      <td>3-8 Yrs</td>\n",
       "    </tr>\n",
       "    <tr>\n",
       "      <th>4</th>\n",
       "      <td>Director/Senior Director - Data Science</td>\n",
       "      <td>Noida, Hyderabad/Secunderabad, Pune, Gurgaon/G...</td>\n",
       "      <td>Axtria India</td>\n",
       "      <td>10-15 Yrs</td>\n",
       "    </tr>\n",
       "    <tr>\n",
       "      <th>5</th>\n",
       "      <td>Manager/Senior Manager - Data Science</td>\n",
       "      <td>Noida, Hyderabad/Secunderabad, Pune, Gurgaon/G...</td>\n",
       "      <td>Axtria India</td>\n",
       "      <td>8-12 Yrs</td>\n",
       "    </tr>\n",
       "    <tr>\n",
       "      <th>6</th>\n",
       "      <td>Data Scientist - R/Python</td>\n",
       "      <td>Temp. WFH - Delhi / NCR, Kolkata, Mumbai, Hyde...</td>\n",
       "      <td>Okda Solutions</td>\n",
       "      <td>4-7 Yrs</td>\n",
       "    </tr>\n",
       "    <tr>\n",
       "      <th>7</th>\n",
       "      <td>Data Scientist - Engine Algorithm</td>\n",
       "      <td>Delhi / NCR, Kolkata, Mumbai, Hyderabad/Secund...</td>\n",
       "      <td>Primo Hiring</td>\n",
       "      <td>1-3 Yrs</td>\n",
       "    </tr>\n",
       "    <tr>\n",
       "      <th>8</th>\n",
       "      <td>Data Scientist - R/Python</td>\n",
       "      <td>Temp. WFH - Delhi / NCR, Kolkata, Mumbai, Visa...</td>\n",
       "      <td>Okda Solutions</td>\n",
       "      <td>4-7 Yrs</td>\n",
       "    </tr>\n",
       "    <tr>\n",
       "      <th>9</th>\n",
       "      <td>Senior Data Scientist</td>\n",
       "      <td>Delhi / NCR, Indore, Madhya Pradesh, Pune, Ban...</td>\n",
       "      <td>Impetus Technologies</td>\n",
       "      <td>4-8 Yrs</td>\n",
       "    </tr>\n",
       "  </tbody>\n",
       "</table>\n",
       "</div>"
      ],
      "text/plain": [
       "                                               Title  \\\n",
       "0  Permanent Opportunity - Data Scientist(Snaplog...   \n",
       "1                    Machine Learning (AI) Architect   \n",
       "2                                     Data Scientist   \n",
       "3                                     Data Scientist   \n",
       "4            Director/Senior Director - Data Science   \n",
       "5              Manager/Senior Manager - Data Science   \n",
       "6                          Data Scientist - R/Python   \n",
       "7                  Data Scientist - Engine Algorithm   \n",
       "8                          Data Scientist - R/Python   \n",
       "9                              Senior Data Scientist   \n",
       "\n",
       "                                            location           Company_name  \\\n",
       "0  Hybrid - Delhi / NCR, Kolkata, Hyderabad/Secun...               Deloitte   \n",
       "1  Kolkata, Mumbai, New Delhi, Hyderabad/Secunder...             Persistent   \n",
       "2  Hybrid - Delhi / NCR, Pune, Bangalore/Bengalur...               Infogain   \n",
       "3  Kolkata, Mumbai, New Delhi, Hyderabad/Secunder...  IBS Software Services   \n",
       "4  Noida, Hyderabad/Secunderabad, Pune, Gurgaon/G...           Axtria India   \n",
       "5  Noida, Hyderabad/Secunderabad, Pune, Gurgaon/G...           Axtria India   \n",
       "6  Temp. WFH - Delhi / NCR, Kolkata, Mumbai, Hyde...         Okda Solutions   \n",
       "7  Delhi / NCR, Kolkata, Mumbai, Hyderabad/Secund...           Primo Hiring   \n",
       "8  Temp. WFH - Delhi / NCR, Kolkata, Mumbai, Visa...         Okda Solutions   \n",
       "9  Delhi / NCR, Indore, Madhya Pradesh, Pune, Ban...   Impetus Technologies   \n",
       "\n",
       "  Experience  \n",
       "0   9-14 Yrs  \n",
       "1   5-12 Yrs  \n",
       "2    3-6 Yrs  \n",
       "3    3-8 Yrs  \n",
       "4  10-15 Yrs  \n",
       "5   8-12 Yrs  \n",
       "6    4-7 Yrs  \n",
       "7    1-3 Yrs  \n",
       "8    4-7 Yrs  \n",
       "9    4-8 Yrs  "
      ]
     },
     "execution_count": 34,
     "metadata": {},
     "output_type": "execute_result"
    }
   ],
   "source": [
    "import pandas as pd\n",
    "df=pd.DataFrame({'Title':job_title,'location':job_location,'Company_name':company_name,'Experience':experience_required})\n",
    "df"
   ]
  },
  {
   "cell_type": "markdown",
   "id": "4c04e37e",
   "metadata": {},
   "source": [
    "Q4: Scrape data of first 100 sunglasses listings on flipkart.com. You have to scrape four attributes:\n",
    "1. Brand\n",
    "2. Product Description\n",
    "3. Price\n",
    "The attributes which you have to scrape is ticked marked in the below image.\n",
    "To scrape the data you have to go through following steps:\n",
    "1. Go to Flipkart webpage by url : https://www.flipkart.com/\n",
    "2. Enter “sunglasses” in the search field where “search for products, brands and more” is written and\n",
    "click the search icon\n",
    "3. After that you will reach to the page having a lot of sunglasses. From this page you can scrap the\n",
    "required data as usual.\n",
    "As\n",
    "4. After scraping data from the first page, go to the “Next” Button at the bottom other page , then\n",
    "click on it.\n",
    "5. Now scrape data from this page as usual\n",
    "6. Repeat this until you get data for 100 sunglasses.\n",
    "Note: That all of the above steps have to be done by coding only and not manually."
   ]
  },
  {
   "cell_type": "code",
   "execution_count": 67,
   "id": "dc46f1c8",
   "metadata": {},
   "outputs": [
    {
     "name": "stdout",
     "output_type": "stream",
     "text": [
      "Requirement already satisfied: selenium in c:\\users\\shalini\\anaconda3\\lib\\site-packages (4.9.1)\n",
      "Requirement already satisfied: trio-websocket~=0.9 in c:\\users\\shalini\\anaconda3\\lib\\site-packages (from selenium) (0.10.2)\n",
      "Requirement already satisfied: trio~=0.17 in c:\\users\\shalini\\anaconda3\\lib\\site-packages (from selenium) (0.22.0)\n",
      "Requirement already satisfied: urllib3[socks]<3,>=1.26 in c:\\users\\shalini\\anaconda3\\lib\\site-packages (from selenium) (1.26.11)\n",
      "Requirement already satisfied: certifi>=2021.10.8 in c:\\users\\shalini\\anaconda3\\lib\\site-packages (from selenium) (2022.9.14)\n",
      "Requirement already satisfied: async-generator>=1.9 in c:\\users\\shalini\\anaconda3\\lib\\site-packages (from trio~=0.17->selenium) (1.10)\n",
      "Requirement already satisfied: exceptiongroup>=1.0.0rc9 in c:\\users\\shalini\\anaconda3\\lib\\site-packages (from trio~=0.17->selenium) (1.1.1)\n",
      "Requirement already satisfied: outcome in c:\\users\\shalini\\anaconda3\\lib\\site-packages (from trio~=0.17->selenium) (1.2.0)\n",
      "Requirement already satisfied: cffi>=1.14 in c:\\users\\shalini\\anaconda3\\lib\\site-packages (from trio~=0.17->selenium) (1.15.1)\n",
      "Requirement already satisfied: idna in c:\\users\\shalini\\anaconda3\\lib\\site-packages (from trio~=0.17->selenium) (3.3)\n",
      "Requirement already satisfied: sniffio in c:\\users\\shalini\\anaconda3\\lib\\site-packages (from trio~=0.17->selenium) (1.2.0)\n",
      "Requirement already satisfied: attrs>=19.2.0 in c:\\users\\shalini\\anaconda3\\lib\\site-packages (from trio~=0.17->selenium) (21.4.0)\n",
      "Requirement already satisfied: sortedcontainers in c:\\users\\shalini\\anaconda3\\lib\\site-packages (from trio~=0.17->selenium) (2.4.0)\n",
      "Requirement already satisfied: wsproto>=0.14 in c:\\users\\shalini\\anaconda3\\lib\\site-packages (from trio-websocket~=0.9->selenium) (1.2.0)\n",
      "Requirement already satisfied: PySocks!=1.5.7,<2.0,>=1.5.6 in c:\\users\\shalini\\anaconda3\\lib\\site-packages (from urllib3[socks]<3,>=1.26->selenium) (1.7.1)\n",
      "Requirement already satisfied: pycparser in c:\\users\\shalini\\anaconda3\\lib\\site-packages (from cffi>=1.14->trio~=0.17->selenium) (2.21)\n",
      "Requirement already satisfied: h11<1,>=0.9.0 in c:\\users\\shalini\\anaconda3\\lib\\site-packages (from wsproto>=0.14->trio-websocket~=0.9->selenium) (0.14.0)\n"
     ]
    }
   ],
   "source": [
    "! pip install selenium"
   ]
  },
  {
   "cell_type": "code",
   "execution_count": 81,
   "id": "dc3a885b",
   "metadata": {},
   "outputs": [],
   "source": [
    "import selenium\n",
    "import pandas as pd\n",
    "from selenium import webdriver\n",
    "import warnings\n",
    "warnings.filterwarnings('ignore')\n",
    "import time"
   ]
  },
  {
   "cell_type": "code",
   "execution_count": 12,
   "id": "cb78d405",
   "metadata": {},
   "outputs": [],
   "source": [
    "#Lets first connect to the web driver.\n",
    "driver = webdriver.Chrome(r\"chromedriver.exe\")"
   ]
  },
  {
   "cell_type": "code",
   "execution_count": 7,
   "id": "9df009a4",
   "metadata": {},
   "outputs": [],
   "source": [
    "#Opening the flipkart page on automated chrome browser\n",
    "driver.get(\"https://www.flipkart.com/\")"
   ]
  },
  {
   "cell_type": "code",
   "execution_count": 9,
   "id": "eb651895",
   "metadata": {},
   "outputs": [],
   "source": [
    "B_name=[]\n",
    "Price=[]\n",
    "P_desc=[]\n",
    "Discount=[]"
   ]
  },
  {
   "cell_type": "code",
   "execution_count": 10,
   "id": "91f35b9b",
   "metadata": {},
   "outputs": [],
   "source": [
    "for i in range(3):\n",
    "    b_name=driver.find_elements(By.XPATH,'//div[@class=\"_2WkVRV\"]')\n",
    "    p_desc=driver.find_elements(By.XPATH,'//a[@class=\"IRpwTa\"]')\n",
    "    price =driver.find_elements(By.XPATH,'//div[@class=\"_25b18c\"]')\n",
    "    discount=driver.find_elements(By.XPATH,'//div[@class=\"_3Ay6Sb\"]')\n",
    "    \n",
    "    for j  in b_name:\n",
    "        B_name.append(j.text)\n",
    "    B_name[:100]    \n",
    "    \n",
    "    \n",
    "    \n",
    "    for k in p_desc:\n",
    "        P_desc.append(k.text)\n",
    "    P_desc[:100] \n",
    "    \n",
    "    \n",
    "    for l in price:\n",
    "        Price.append(l.text)\n",
    "    Price[:100] \n",
    "    \n",
    "    \n",
    "    for t in discount:\n",
    "        Discount.append(t.text)\n",
    "    Discount[:100]\n"
   ]
  },
  {
   "cell_type": "code",
   "execution_count": 11,
   "id": "892019ed",
   "metadata": {},
   "outputs": [
    {
     "data": {
      "text/plain": [
       "['ROYAL SON',\n",
       " 'ROYAL SON',\n",
       " 'SRPM',\n",
       " 'Elligator',\n",
       " 'Fastrack',\n",
       " 'PIRASO',\n",
       " 'Elligator',\n",
       " 'AISLIN',\n",
       " 'SRPM',\n",
       " 'PIRASO',\n",
       " 'BKGE',\n",
       " 'Sewell',\n",
       " 'Elligator',\n",
       " 'Elligator',\n",
       " 'Fastrack',\n",
       " 'AISLIN',\n",
       " 'Elligator',\n",
       " 'Fastrack',\n",
       " 'VINCENT CHASE',\n",
       " 'ROYAL SON',\n",
       " 'Fastrack',\n",
       " 'PIRASO',\n",
       " 'Fastrack',\n",
       " 'ROYAL SON',\n",
       " 'iCopertina',\n",
       " 'Fastrack',\n",
       " 'PIRASO',\n",
       " 'AISLIN',\n",
       " 'SUNBEE',\n",
       " 'Fastrack',\n",
       " 'Fastrack',\n",
       " 'ROYAL SON',\n",
       " 'Fastrack',\n",
       " 'like future',\n",
       " 'SUNBEE',\n",
       " 'AISLIN',\n",
       " 'PIRASO',\n",
       " 'VINCENT CHASE',\n",
       " 'Fastrack',\n",
       " 'style guru',\n",
       " 'ROYAL SON',\n",
       " 'ROYAL SON',\n",
       " 'SRPM',\n",
       " 'Elligator',\n",
       " 'Fastrack',\n",
       " 'PIRASO',\n",
       " 'Elligator',\n",
       " 'AISLIN',\n",
       " 'SRPM',\n",
       " 'PIRASO',\n",
       " 'BKGE',\n",
       " 'Sewell',\n",
       " 'Elligator',\n",
       " 'Elligator',\n",
       " 'Fastrack',\n",
       " 'AISLIN',\n",
       " 'Elligator',\n",
       " 'Fastrack',\n",
       " 'VINCENT CHASE',\n",
       " 'ROYAL SON',\n",
       " 'Fastrack',\n",
       " 'PIRASO',\n",
       " 'Fastrack',\n",
       " 'ROYAL SON',\n",
       " 'iCopertina',\n",
       " 'Fastrack',\n",
       " 'PIRASO',\n",
       " 'AISLIN',\n",
       " 'SUNBEE',\n",
       " 'Fastrack',\n",
       " 'Fastrack',\n",
       " 'ROYAL SON',\n",
       " 'Fastrack',\n",
       " 'like future',\n",
       " 'SUNBEE',\n",
       " 'AISLIN',\n",
       " 'PIRASO',\n",
       " 'VINCENT CHASE',\n",
       " 'Fastrack',\n",
       " 'style guru',\n",
       " 'ROYAL SON',\n",
       " 'ROYAL SON',\n",
       " 'SRPM',\n",
       " 'Elligator',\n",
       " 'Fastrack',\n",
       " 'PIRASO',\n",
       " 'Elligator',\n",
       " 'AISLIN',\n",
       " 'SRPM',\n",
       " 'PIRASO',\n",
       " 'BKGE',\n",
       " 'Sewell',\n",
       " 'Elligator',\n",
       " 'Elligator',\n",
       " 'Fastrack',\n",
       " 'AISLIN',\n",
       " 'Elligator',\n",
       " 'Fastrack',\n",
       " 'VINCENT CHASE',\n",
       " 'ROYAL SON']"
      ]
     },
     "execution_count": 11,
     "metadata": {},
     "output_type": "execute_result"
    }
   ],
   "source": [
    "B_name[:100]"
   ]
  },
  {
   "cell_type": "code",
   "execution_count": 13,
   "id": "52b26fcd",
   "metadata": {},
   "outputs": [
    {
     "data": {
      "text/plain": [
       "['UV Protection Rectangular, Retro Square Sunglasses (58)',\n",
       " 'Mirrored Aviator Sunglasses (55)',\n",
       " 'UV Protection Wayfarer Sunglasses (50)',\n",
       " 'UV Protection Cat-eye, Retro Square, Oval, Round Sungla...',\n",
       " 'UV Protection Rectangular Sunglasses (Free Size)',\n",
       " 'UV Protection Clubmaster Sunglasses (54)',\n",
       " 'UV Protection, Gradient Retro Square, Over-sized Sungla...',\n",
       " 'UV Protection Wayfarer Sunglasses (50)',\n",
       " 'UV Protection Aviator Sunglasses (Free Size)',\n",
       " 'Polarized, UV Protection Retro Square Sunglasses (55)',\n",
       " 'Polarized Butterfly Sunglasses (Free Size)',\n",
       " 'UV Protection, Mirrored Wayfarer Sunglasses (54)',\n",
       " 'UV Protection Round Sunglasses (53)',\n",
       " 'Gradient, UV Protection Wayfarer Sunglasses (Free Size)',\n",
       " 'UV Protection Wayfarer, Rectangular Sunglasses (53)',\n",
       " 'UV Protection Round Sunglasses (53)',\n",
       " 'UV Protection Shield Sunglasses (Free Size)',\n",
       " 'by Lenskart Polarized, UV Protection Retro Square Sungl...',\n",
       " 'Polarized, UV Protection Retro Square Sunglasses (62)',\n",
       " 'UV Protection Wayfarer Sunglasses (Free Size)',\n",
       " 'UV Protection Wayfarer Sunglasses (56)',\n",
       " 'UV Protection Wayfarer Sunglasses (Free Size)',\n",
       " 'Others Retro Square Sunglasses (52)',\n",
       " 'UV Protection Retro Square Sunglasses (Free Size)',\n",
       " 'UV Protection Over-sized Sunglasses (65)',\n",
       " 'UV Protection, Gradient Butterfly, Retro Square Sunglas...',\n",
       " 'UV Protection, Polarized Wayfarer Sunglasses (Free Size...',\n",
       " 'UV Protection Aviator Sunglasses (57)',\n",
       " 'Gradient, UV Protection Wayfarer Sunglasses (Free Size)',\n",
       " 'UV Protection Retro Square Sunglasses (58)',\n",
       " 'UV Protection Wayfarer Sunglasses (Free Size)',\n",
       " 'UV Protection Rectangular Sunglasses (Free Size)',\n",
       " 'UV Protection, Polarized, Mirrored Retro Square Sunglas...',\n",
       " 'UV Protection, Gradient Wayfarer, Rectangular Sunglasse...',\n",
       " 'UV Protection Wayfarer Sunglasses (56)',\n",
       " 'by Lenskart Polarized, UV Protection Retro Square Sungl...',\n",
       " 'UV Protection Wayfarer Sunglasses (Free Size)',\n",
       " 'Mirrored, Night Vision, UV Protection Wayfarer, Aviator...',\n",
       " 'UV Protection Rectangular, Retro Square Sunglasses (58)',\n",
       " 'Mirrored Aviator Sunglasses (55)',\n",
       " 'UV Protection Wayfarer Sunglasses (50)',\n",
       " 'UV Protection Cat-eye, Retro Square, Oval, Round Sungla...',\n",
       " 'UV Protection Rectangular Sunglasses (Free Size)',\n",
       " 'UV Protection Clubmaster Sunglasses (54)',\n",
       " 'UV Protection, Gradient Retro Square, Over-sized Sungla...',\n",
       " 'UV Protection Wayfarer Sunglasses (50)',\n",
       " 'UV Protection Aviator Sunglasses (Free Size)',\n",
       " 'Polarized, UV Protection Retro Square Sunglasses (55)',\n",
       " 'Polarized Butterfly Sunglasses (Free Size)',\n",
       " 'UV Protection, Mirrored Wayfarer Sunglasses (54)',\n",
       " 'UV Protection Round Sunglasses (53)',\n",
       " 'Gradient, UV Protection Wayfarer Sunglasses (Free Size)',\n",
       " 'UV Protection Wayfarer, Rectangular Sunglasses (53)',\n",
       " 'UV Protection Round Sunglasses (53)',\n",
       " 'UV Protection Shield Sunglasses (Free Size)',\n",
       " 'by Lenskart Polarized, UV Protection Retro Square Sungl...',\n",
       " 'Polarized, UV Protection Retro Square Sunglasses (62)',\n",
       " 'UV Protection Wayfarer Sunglasses (Free Size)',\n",
       " 'UV Protection Wayfarer Sunglasses (56)',\n",
       " 'UV Protection Wayfarer Sunglasses (Free Size)',\n",
       " 'Others Retro Square Sunglasses (52)',\n",
       " 'UV Protection Retro Square Sunglasses (Free Size)',\n",
       " 'UV Protection Over-sized Sunglasses (65)',\n",
       " 'UV Protection, Gradient Butterfly, Retro Square Sunglas...',\n",
       " 'UV Protection, Polarized Wayfarer Sunglasses (Free Size...',\n",
       " 'UV Protection Aviator Sunglasses (57)',\n",
       " 'Gradient, UV Protection Wayfarer Sunglasses (Free Size)',\n",
       " 'UV Protection Retro Square Sunglasses (58)',\n",
       " 'UV Protection Wayfarer Sunglasses (Free Size)',\n",
       " 'UV Protection Rectangular Sunglasses (Free Size)',\n",
       " 'UV Protection, Polarized, Mirrored Retro Square Sunglas...',\n",
       " 'UV Protection, Gradient Wayfarer, Rectangular Sunglasse...',\n",
       " 'UV Protection Wayfarer Sunglasses (56)',\n",
       " 'by Lenskart Polarized, UV Protection Retro Square Sungl...',\n",
       " 'UV Protection Wayfarer Sunglasses (Free Size)',\n",
       " 'Mirrored, Night Vision, UV Protection Wayfarer, Aviator...',\n",
       " 'UV Protection Rectangular, Retro Square Sunglasses (58)',\n",
       " 'Mirrored Aviator Sunglasses (55)',\n",
       " 'UV Protection Wayfarer Sunglasses (50)',\n",
       " 'UV Protection Cat-eye, Retro Square, Oval, Round Sungla...',\n",
       " 'UV Protection Rectangular Sunglasses (Free Size)',\n",
       " 'UV Protection Clubmaster Sunglasses (54)',\n",
       " 'UV Protection, Gradient Retro Square, Over-sized Sungla...',\n",
       " 'UV Protection Wayfarer Sunglasses (50)',\n",
       " 'UV Protection Aviator Sunglasses (Free Size)',\n",
       " 'Polarized, UV Protection Retro Square Sunglasses (55)',\n",
       " 'Polarized Butterfly Sunglasses (Free Size)',\n",
       " 'UV Protection, Mirrored Wayfarer Sunglasses (54)',\n",
       " 'UV Protection Round Sunglasses (53)',\n",
       " 'Gradient, UV Protection Wayfarer Sunglasses (Free Size)',\n",
       " 'UV Protection Wayfarer, Rectangular Sunglasses (53)',\n",
       " 'UV Protection Round Sunglasses (53)',\n",
       " 'UV Protection Shield Sunglasses (Free Size)',\n",
       " 'by Lenskart Polarized, UV Protection Retro Square Sungl...',\n",
       " 'Polarized, UV Protection Retro Square Sunglasses (62)',\n",
       " 'UV Protection Wayfarer Sunglasses (Free Size)',\n",
       " 'UV Protection Wayfarer Sunglasses (56)',\n",
       " 'UV Protection Wayfarer Sunglasses (Free Size)',\n",
       " 'Others Retro Square Sunglasses (52)',\n",
       " 'UV Protection Retro Square Sunglasses (Free Size)']"
      ]
     },
     "execution_count": 13,
     "metadata": {},
     "output_type": "execute_result"
    }
   ],
   "source": [
    "P_desc[:100] "
   ]
  },
  {
   "cell_type": "code",
   "execution_count": 14,
   "id": "8ec2e532",
   "metadata": {},
   "outputs": [
    {
     "data": {
      "text/plain": [
       "['₹471₹1,49968% off',\n",
       " '₹398₹1,49973% off',\n",
       " '₹216₹1,29983% off',\n",
       " '₹213₹59964% off',\n",
       " '₹499₹89944% off',\n",
       " '₹239₹1,59985% off',\n",
       " '₹109₹1,29991% off',\n",
       " '₹520₹2,60080% off',\n",
       " '₹179₹1,29986% off',\n",
       " '₹268₹1,59983% off',\n",
       " '₹149₹99985% off',\n",
       " '₹647₹1,99967% off',\n",
       " '₹179₹99982% off',\n",
       " '₹149₹99885% off',\n",
       " '₹569₹99943% off',\n",
       " '₹560₹2,60078% off',\n",
       " '₹149₹99985% off',\n",
       " '₹569₹99943% off',\n",
       " '₹649₹2,50074% off',\n",
       " '₹674₹1,99966% off',\n",
       " '₹609₹1,09944% off',\n",
       " '₹214₹1,59986% off',\n",
       " '₹566₹99943% off',\n",
       " '₹236₹99976% off',\n",
       " '₹199₹99980% off',\n",
       " '₹609₹1,09944% off',\n",
       " '₹415₹2,59984% off',\n",
       " '₹495₹2,15076% off',\n",
       " '₹315₹1,29975% off',\n",
       " '₹857₹8994% off',\n",
       " '₹559₹99944% off',\n",
       " '₹449₹1,49970% off',\n",
       " '₹609₹99939% off',\n",
       " '₹190₹99980% off',\n",
       " '₹259₹1,29980% off',\n",
       " '₹537₹2,15075% off',\n",
       " '₹192₹1,59987% off',\n",
       " '₹873₹1,99956% off',\n",
       " '₹519₹89942% off',\n",
       " '₹899₹1,99955% off',\n",
       " '₹67466% off',\n",
       " '₹60944% off',\n",
       " '₹17982% off',\n",
       " '₹26883% off',\n",
       " '₹56943% off',\n",
       " '₹471₹1,49968% off',\n",
       " '₹398₹1,49973% off',\n",
       " '₹216₹1,29983% off',\n",
       " '₹213₹59964% off',\n",
       " '₹499₹89944% off',\n",
       " '₹239₹1,59985% off',\n",
       " '₹109₹1,29991% off',\n",
       " '₹520₹2,60080% off',\n",
       " '₹179₹1,29986% off',\n",
       " '₹268₹1,59983% off',\n",
       " '₹149₹99985% off',\n",
       " '₹647₹1,99967% off',\n",
       " '₹179₹99982% off',\n",
       " '₹149₹99885% off',\n",
       " '₹569₹99943% off',\n",
       " '₹560₹2,60078% off',\n",
       " '₹149₹99985% off',\n",
       " '₹569₹99943% off',\n",
       " '₹649₹2,50074% off',\n",
       " '₹674₹1,99966% off',\n",
       " '₹609₹1,09944% off',\n",
       " '₹214₹1,59986% off',\n",
       " '₹566₹99943% off',\n",
       " '₹236₹99976% off',\n",
       " '₹199₹99980% off',\n",
       " '₹609₹1,09944% off',\n",
       " '₹415₹2,59984% off',\n",
       " '₹495₹2,15076% off',\n",
       " '₹315₹1,29975% off',\n",
       " '₹857₹8994% off',\n",
       " '₹559₹99944% off',\n",
       " '₹449₹1,49970% off',\n",
       " '₹609₹99939% off',\n",
       " '₹190₹99980% off',\n",
       " '₹259₹1,29980% off',\n",
       " '₹537₹2,15075% off',\n",
       " '₹192₹1,59987% off',\n",
       " '₹873₹1,99956% off',\n",
       " '₹519₹89942% off',\n",
       " '₹899₹1,99955% off',\n",
       " '₹67466% off',\n",
       " '₹60944% off',\n",
       " '₹17982% off',\n",
       " '₹26883% off',\n",
       " '₹56943% off',\n",
       " '₹471₹1,49968% off',\n",
       " '₹398₹1,49973% off',\n",
       " '₹216₹1,29983% off',\n",
       " '₹213₹59964% off',\n",
       " '₹499₹89944% off',\n",
       " '₹239₹1,59985% off',\n",
       " '₹109₹1,29991% off',\n",
       " '₹520₹2,60080% off',\n",
       " '₹179₹1,29986% off',\n",
       " '₹268₹1,59983% off']"
      ]
     },
     "execution_count": 14,
     "metadata": {},
     "output_type": "execute_result"
    }
   ],
   "source": [
    "Price[:100] "
   ]
  },
  {
   "cell_type": "code",
   "execution_count": 17,
   "id": "0a41fe0d",
   "metadata": {},
   "outputs": [
    {
     "data": {
      "text/plain": [
       "['68% off',\n",
       " '73% off',\n",
       " '83% off',\n",
       " '64% off',\n",
       " '44% off',\n",
       " '85% off',\n",
       " '91% off',\n",
       " '80% off',\n",
       " '86% off',\n",
       " '83% off',\n",
       " '85% off',\n",
       " '67% off',\n",
       " '82% off',\n",
       " '85% off',\n",
       " '43% off',\n",
       " '78% off',\n",
       " '85% off',\n",
       " '43% off',\n",
       " '74% off',\n",
       " '66% off',\n",
       " '44% off',\n",
       " '86% off',\n",
       " '43% off',\n",
       " '76% off',\n",
       " '80% off',\n",
       " '44% off',\n",
       " '84% off',\n",
       " '76% off',\n",
       " '75% off',\n",
       " '4% off',\n",
       " '44% off',\n",
       " '70% off',\n",
       " '39% off',\n",
       " '80% off',\n",
       " '80% off',\n",
       " '75% off',\n",
       " '87% off',\n",
       " '56% off',\n",
       " '42% off',\n",
       " '55% off',\n",
       " '68% off',\n",
       " '73% off',\n",
       " '83% off',\n",
       " '64% off',\n",
       " '44% off',\n",
       " '85% off',\n",
       " '91% off',\n",
       " '80% off',\n",
       " '86% off',\n",
       " '83% off',\n",
       " '85% off',\n",
       " '67% off',\n",
       " '82% off',\n",
       " '85% off',\n",
       " '43% off',\n",
       " '78% off',\n",
       " '85% off',\n",
       " '43% off',\n",
       " '74% off',\n",
       " '66% off',\n",
       " '44% off',\n",
       " '86% off',\n",
       " '43% off',\n",
       " '76% off',\n",
       " '80% off',\n",
       " '44% off',\n",
       " '84% off',\n",
       " '76% off',\n",
       " '75% off',\n",
       " '4% off',\n",
       " '44% off',\n",
       " '70% off',\n",
       " '39% off',\n",
       " '80% off',\n",
       " '80% off',\n",
       " '75% off',\n",
       " '87% off',\n",
       " '56% off',\n",
       " '42% off',\n",
       " '55% off',\n",
       " '68% off',\n",
       " '73% off',\n",
       " '83% off',\n",
       " '64% off',\n",
       " '44% off',\n",
       " '85% off',\n",
       " '91% off',\n",
       " '80% off',\n",
       " '86% off',\n",
       " '83% off',\n",
       " '85% off',\n",
       " '67% off',\n",
       " '82% off',\n",
       " '85% off',\n",
       " '43% off',\n",
       " '78% off',\n",
       " '85% off',\n",
       " '43% off',\n",
       " '74% off',\n",
       " '66% off']"
      ]
     },
     "execution_count": 17,
     "metadata": {},
     "output_type": "execute_result"
    }
   ],
   "source": [
    "Discount[:100]"
   ]
  },
  {
   "cell_type": "code",
   "execution_count": 19,
   "id": "4960b927",
   "metadata": {},
   "outputs": [
    {
     "name": "stdout",
     "output_type": "stream",
     "text": [
      "100\n",
      "100\n",
      "100\n",
      "100\n"
     ]
    },
    {
     "data": {
      "text/plain": [
       "(None, None, None, None)"
      ]
     },
     "execution_count": 19,
     "metadata": {},
     "output_type": "execute_result"
    }
   ],
   "source": [
    "print(len(B_name[:100])),print(len(Price[:100])),print(len(P_desc[:100])),print(len(Discount[:100]))"
   ]
  },
  {
   "cell_type": "markdown",
   "id": "4ccb0a9b",
   "metadata": {},
   "source": [
    "# Creating a dataframe of the above data"
   ]
  },
  {
   "cell_type": "code",
   "execution_count": 20,
   "id": "813fe057",
   "metadata": {},
   "outputs": [],
   "source": [
    "sun_gl=pd.DataFrame({})\n",
    "sun_gl['Brand_name']=B_name[:100]\n",
    "sun_gl['P_price']=Price[:100]\n",
    "sun_gl['Pr_desc']=P_desc[:100]\n",
    "sun_gl['P_discount']=Discount[:100]"
   ]
  },
  {
   "cell_type": "code",
   "execution_count": 21,
   "id": "4df9e0fa",
   "metadata": {},
   "outputs": [
    {
     "data": {
      "text/html": [
       "<div>\n",
       "<style scoped>\n",
       "    .dataframe tbody tr th:only-of-type {\n",
       "        vertical-align: middle;\n",
       "    }\n",
       "\n",
       "    .dataframe tbody tr th {\n",
       "        vertical-align: top;\n",
       "    }\n",
       "\n",
       "    .dataframe thead th {\n",
       "        text-align: right;\n",
       "    }\n",
       "</style>\n",
       "<table border=\"1\" class=\"dataframe\">\n",
       "  <thead>\n",
       "    <tr style=\"text-align: right;\">\n",
       "      <th></th>\n",
       "      <th>Brand_name</th>\n",
       "      <th>P_price</th>\n",
       "      <th>Pr_desc</th>\n",
       "      <th>P_discount</th>\n",
       "    </tr>\n",
       "  </thead>\n",
       "  <tbody>\n",
       "    <tr>\n",
       "      <th>0</th>\n",
       "      <td>ROYAL SON</td>\n",
       "      <td>₹471₹1,49968% off</td>\n",
       "      <td>UV Protection Rectangular, Retro Square Sungla...</td>\n",
       "      <td>68% off</td>\n",
       "    </tr>\n",
       "    <tr>\n",
       "      <th>1</th>\n",
       "      <td>ROYAL SON</td>\n",
       "      <td>₹398₹1,49973% off</td>\n",
       "      <td>Mirrored Aviator Sunglasses (55)</td>\n",
       "      <td>73% off</td>\n",
       "    </tr>\n",
       "    <tr>\n",
       "      <th>2</th>\n",
       "      <td>SRPM</td>\n",
       "      <td>₹216₹1,29983% off</td>\n",
       "      <td>UV Protection Wayfarer Sunglasses (50)</td>\n",
       "      <td>83% off</td>\n",
       "    </tr>\n",
       "    <tr>\n",
       "      <th>3</th>\n",
       "      <td>Elligator</td>\n",
       "      <td>₹213₹59964% off</td>\n",
       "      <td>UV Protection Cat-eye, Retro Square, Oval, Rou...</td>\n",
       "      <td>64% off</td>\n",
       "    </tr>\n",
       "    <tr>\n",
       "      <th>4</th>\n",
       "      <td>Fastrack</td>\n",
       "      <td>₹499₹89944% off</td>\n",
       "      <td>UV Protection Rectangular Sunglasses (Free Size)</td>\n",
       "      <td>44% off</td>\n",
       "    </tr>\n",
       "    <tr>\n",
       "      <th>...</th>\n",
       "      <td>...</td>\n",
       "      <td>...</td>\n",
       "      <td>...</td>\n",
       "      <td>...</td>\n",
       "    </tr>\n",
       "    <tr>\n",
       "      <th>95</th>\n",
       "      <td>AISLIN</td>\n",
       "      <td>₹239₹1,59985% off</td>\n",
       "      <td>UV Protection Wayfarer Sunglasses (Free Size)</td>\n",
       "      <td>78% off</td>\n",
       "    </tr>\n",
       "    <tr>\n",
       "      <th>96</th>\n",
       "      <td>Elligator</td>\n",
       "      <td>₹109₹1,29991% off</td>\n",
       "      <td>UV Protection Wayfarer Sunglasses (56)</td>\n",
       "      <td>85% off</td>\n",
       "    </tr>\n",
       "    <tr>\n",
       "      <th>97</th>\n",
       "      <td>Fastrack</td>\n",
       "      <td>₹520₹2,60080% off</td>\n",
       "      <td>UV Protection Wayfarer Sunglasses (Free Size)</td>\n",
       "      <td>43% off</td>\n",
       "    </tr>\n",
       "    <tr>\n",
       "      <th>98</th>\n",
       "      <td>VINCENT CHASE</td>\n",
       "      <td>₹179₹1,29986% off</td>\n",
       "      <td>Others Retro Square Sunglasses (52)</td>\n",
       "      <td>74% off</td>\n",
       "    </tr>\n",
       "    <tr>\n",
       "      <th>99</th>\n",
       "      <td>ROYAL SON</td>\n",
       "      <td>₹268₹1,59983% off</td>\n",
       "      <td>UV Protection Retro Square Sunglasses (Free Size)</td>\n",
       "      <td>66% off</td>\n",
       "    </tr>\n",
       "  </tbody>\n",
       "</table>\n",
       "<p>100 rows × 4 columns</p>\n",
       "</div>"
      ],
      "text/plain": [
       "       Brand_name            P_price  \\\n",
       "0       ROYAL SON  ₹471₹1,49968% off   \n",
       "1       ROYAL SON  ₹398₹1,49973% off   \n",
       "2            SRPM  ₹216₹1,29983% off   \n",
       "3       Elligator    ₹213₹59964% off   \n",
       "4        Fastrack    ₹499₹89944% off   \n",
       "..            ...                ...   \n",
       "95         AISLIN  ₹239₹1,59985% off   \n",
       "96      Elligator  ₹109₹1,29991% off   \n",
       "97       Fastrack  ₹520₹2,60080% off   \n",
       "98  VINCENT CHASE  ₹179₹1,29986% off   \n",
       "99      ROYAL SON  ₹268₹1,59983% off   \n",
       "\n",
       "                                              Pr_desc P_discount  \n",
       "0   UV Protection Rectangular, Retro Square Sungla...    68% off  \n",
       "1                    Mirrored Aviator Sunglasses (55)    73% off  \n",
       "2              UV Protection Wayfarer Sunglasses (50)    83% off  \n",
       "3   UV Protection Cat-eye, Retro Square, Oval, Rou...    64% off  \n",
       "4    UV Protection Rectangular Sunglasses (Free Size)    44% off  \n",
       "..                                                ...        ...  \n",
       "95      UV Protection Wayfarer Sunglasses (Free Size)    78% off  \n",
       "96             UV Protection Wayfarer Sunglasses (56)    85% off  \n",
       "97      UV Protection Wayfarer Sunglasses (Free Size)    43% off  \n",
       "98                Others Retro Square Sunglasses (52)    74% off  \n",
       "99  UV Protection Retro Square Sunglasses (Free Size)    66% off  \n",
       "\n",
       "[100 rows x 4 columns]"
      ]
     },
     "execution_count": 21,
     "metadata": {},
     "output_type": "execute_result"
    }
   ],
   "source": [
    "sun_gl"
   ]
  },
  {
   "cell_type": "markdown",
   "id": "a49563de",
   "metadata": {},
   "source": [
    "Q5: Scrape 100 reviews data from flipkart.com for iphone11 phone. You have to go the link:\n",
    "https://www.flipkart.com/apple-iphone-11-black-64-gb/productreviews/\n",
    "itm4e5041ba101fd?pid=MOBFWQ6BXGJCEYNY&lid=LSTMOBFWQ6BXGJCEYNYZXSHRJ&market\n",
    "place=FLIPKART\n",
    "\n",
    "As shown in the above page you have to scrape the tick marked attributes. These are:\n",
    "1. Rating\n",
    "2. Review summary\n",
    "3. Full review\n",
    "4. You have to scrape this data for first 100reviews.\n",
    "Note: All the steps required during scraping should be done through code only and not manually."
   ]
  },
  {
   "cell_type": "code",
   "execution_count": 41,
   "id": "4d4fac35",
   "metadata": {},
   "outputs": [],
   "source": [
    "import selenium\n",
    "import pandas as pd\n",
    "from selenium import webdriver\n",
    "import warnings\n",
    "warnings.filterwarnings('ignore')\n",
    "from selenium.webdriver.common.by import By\n",
    "import time"
   ]
  },
  {
   "cell_type": "code",
   "execution_count": 42,
   "id": "eb95c075",
   "metadata": {},
   "outputs": [],
   "source": [
    "#Lets first connect to the web driver.\n",
    "driver = webdriver.Chrome(r\"chromedriver.exe\")"
   ]
  },
  {
   "cell_type": "code",
   "execution_count": null,
   "id": "79d218ba",
   "metadata": {},
   "outputs": [],
   "source": [
    "#Opening the flipkart page on automated chrome browser\n",
    "driver.get(\"https://www.flipkart.com/apple-iphone-11-black-64-gb/productreviews/\n",
    "itm4e5041ba101fd?pid=MOBFWQ6BXGJCEYNY&lid=LSTMOBFWQ6BXGJCEYNYZXSHRJ&market\")"
   ]
  },
  {
   "cell_type": "code",
   "execution_count": 43,
   "id": "ba12327c",
   "metadata": {},
   "outputs": [],
   "source": [
    "r_rating=[]\n",
    "r_review=[]\n",
    "review1=[]"
   ]
  },
  {
   "cell_type": "code",
   "execution_count": 58,
   "id": "6fca1015",
   "metadata": {},
   "outputs": [],
   "source": [
    "for i in range(3):\n",
    "    r_rating=driver.find_elements(By.XPATH,'//div[@class=\"_3LWZlK _1BLPMq\"]')\n",
    "    r_r=driver.find_elements(By.XPATH,'//p[@class=\"_2-N8zT\"]')\n",
    "    price =driver.find_elements(By.XPATH,'//div[@class=\"t-ZTKy\"]')\n",
    "       \n",
    "    for j  in r_rating:\n",
    "        r_rating.append(j.text)\n",
    "    r_rating[:100]    \n",
    "    \n",
    "    \n",
    "    \n",
    "    for k in r_review:\n",
    "        r_review.append(k.text)\n",
    "    r_review[:100] \n",
    "    \n",
    "    \n",
    "    for l in review1:\n",
    "        review1.append(l.text)\n",
    "    review1[:100] "
   ]
  },
  {
   "cell_type": "code",
   "execution_count": 59,
   "id": "4f2d9d3a",
   "metadata": {},
   "outputs": [
    {
     "data": {
      "text/plain": [
       "[]"
      ]
     },
     "execution_count": 59,
     "metadata": {},
     "output_type": "execute_result"
    }
   ],
   "source": [
    "r_rating[:10]"
   ]
  },
  {
   "cell_type": "code",
   "execution_count": 60,
   "id": "6107b958",
   "metadata": {},
   "outputs": [
    {
     "data": {
      "text/plain": [
       "[]"
      ]
     },
     "execution_count": 60,
     "metadata": {},
     "output_type": "execute_result"
    }
   ],
   "source": [
    "r_review[:100] "
   ]
  },
  {
   "cell_type": "code",
   "execution_count": 61,
   "id": "0b484fc1",
   "metadata": {},
   "outputs": [
    {
     "data": {
      "text/plain": [
       "[]"
      ]
     },
     "execution_count": 61,
     "metadata": {},
     "output_type": "execute_result"
    }
   ],
   "source": [
    "review1[:100]"
   ]
  },
  {
   "cell_type": "markdown",
   "id": "bf1bcbe6",
   "metadata": {},
   "source": [
    "Q6: Scrape data for first 100 sneakers you find when you visit flipkart.com and search for “sneakers” in the\n",
    "search field.\n",
    "You have to scrape 3 attributes of each sneaker:\n",
    "1. Brand\n",
    "2. Product Description\n",
    "3. Price\n",
    "As shown in the below image, you have to scrape the above attributes."
   ]
  },
  {
   "cell_type": "code",
   "execution_count": 68,
   "id": "3f1f4442",
   "metadata": {},
   "outputs": [],
   "source": [
    "#Lets first connect to the web driver.\n",
    "driver = webdriver.Chrome(r\"chromedriver.exe\")"
   ]
  },
  {
   "cell_type": "code",
   "execution_count": 63,
   "id": "2b1d58d9",
   "metadata": {},
   "outputs": [],
   "source": [
    "#Opening the flipkart page on automated chrome browser\n",
    "driver.get(\"https://www.flipkart.com/\")"
   ]
  },
  {
   "cell_type": "code",
   "execution_count": 69,
   "id": "cd821f1e",
   "metadata": {},
   "outputs": [],
   "source": [
    "B_name=[]\n",
    "P_desc=[]\n",
    "Price=[]\n"
   ]
  },
  {
   "cell_type": "code",
   "execution_count": 78,
   "id": "cd9b2486",
   "metadata": {},
   "outputs": [],
   "source": [
    "for i in range(3):\n",
    "    b_name=driver.find_elements(By.XPATH,'//div[@class=\"_2WkVRV\"]')\n",
    "    p_desc=driver.find_elements(By.XPATH,'//a[@class=\"IRpwTa\"]')\n",
    "    price =driver.find_elements(By.XPATH,'//div[@class=\"_25b18c\"]')\n",
    "    \n",
    "    for j  in B_name:\n",
    "        B_name.append(j.text)\n",
    "    B_name[:100]    \n",
    "    \n",
    "    for k in P_desc:\n",
    "        P_desc.append(k.text)\n",
    "    P_desc[:100] \n",
    "    \n",
    "    for l in Price:\n",
    "        Price.append(l.text)\n",
    "    Price[:100] \n",
    "    "
   ]
  },
  {
   "cell_type": "code",
   "execution_count": 79,
   "id": "74aa062c",
   "metadata": {},
   "outputs": [
    {
     "data": {
      "text/plain": [
       "[]"
      ]
     },
     "execution_count": 79,
     "metadata": {},
     "output_type": "execute_result"
    }
   ],
   "source": [
    "B_name[:100] "
   ]
  },
  {
   "cell_type": "code",
   "execution_count": 80,
   "id": "04feda10",
   "metadata": {},
   "outputs": [
    {
     "data": {
      "text/plain": [
       "[]"
      ]
     },
     "execution_count": 80,
     "metadata": {},
     "output_type": "execute_result"
    }
   ],
   "source": [
    "p_desc[:100]"
   ]
  },
  {
   "cell_type": "code",
   "execution_count": 81,
   "id": "511e9e17",
   "metadata": {},
   "outputs": [
    {
     "data": {
      "text/plain": [
       "[]"
      ]
     },
     "execution_count": 81,
     "metadata": {},
     "output_type": "execute_result"
    }
   ],
   "source": [
    " price[:100]"
   ]
  },
  {
   "cell_type": "code",
   "execution_count": 84,
   "id": "b904df74",
   "metadata": {},
   "outputs": [
    {
     "name": "stdout",
     "output_type": "stream",
     "text": [
      "0\n",
      "0\n",
      "0\n"
     ]
    },
    {
     "data": {
      "text/plain": [
       "(None, None, None)"
      ]
     },
     "execution_count": 84,
     "metadata": {},
     "output_type": "execute_result"
    }
   ],
   "source": [
    "print(len(B_name[:100])),print(len(Price[:100])),print(len(P_desc[:100]))"
   ]
  },
  {
   "cell_type": "code",
   "execution_count": 85,
   "id": "1bac55fb",
   "metadata": {},
   "outputs": [],
   "source": [
    "sun_gl=pd.DataFrame({})\n",
    "sun_gl['Brand_name']=B_name[:100]\n",
    "sun_gl['P_price']=Price[:100]\n",
    "sun_gl['Pr_desc']=P_desc[:100]\n"
   ]
  },
  {
   "cell_type": "code",
   "execution_count": 86,
   "id": "aec50296",
   "metadata": {},
   "outputs": [
    {
     "data": {
      "text/html": [
       "<div>\n",
       "<style scoped>\n",
       "    .dataframe tbody tr th:only-of-type {\n",
       "        vertical-align: middle;\n",
       "    }\n",
       "\n",
       "    .dataframe tbody tr th {\n",
       "        vertical-align: top;\n",
       "    }\n",
       "\n",
       "    .dataframe thead th {\n",
       "        text-align: right;\n",
       "    }\n",
       "</style>\n",
       "<table border=\"1\" class=\"dataframe\">\n",
       "  <thead>\n",
       "    <tr style=\"text-align: right;\">\n",
       "      <th></th>\n",
       "      <th>Brand_name</th>\n",
       "      <th>P_price</th>\n",
       "      <th>Pr_desc</th>\n",
       "    </tr>\n",
       "  </thead>\n",
       "  <tbody>\n",
       "  </tbody>\n",
       "</table>\n",
       "</div>"
      ],
      "text/plain": [
       "Empty DataFrame\n",
       "Columns: [Brand_name, P_price, Pr_desc]\n",
       "Index: []"
      ]
     },
     "execution_count": 86,
     "metadata": {},
     "output_type": "execute_result"
    }
   ],
   "source": [
    "sun_gl"
   ]
  },
  {
   "cell_type": "code",
   "execution_count": null,
   "id": "e061a181",
   "metadata": {},
   "outputs": [],
   "source": []
  }
 ],
 "metadata": {
  "kernelspec": {
   "display_name": "Python 3 (ipykernel)",
   "language": "python",
   "name": "python3"
  },
  "language_info": {
   "codemirror_mode": {
    "name": "ipython",
    "version": 3
   },
   "file_extension": ".py",
   "mimetype": "text/x-python",
   "name": "python",
   "nbconvert_exporter": "python",
   "pygments_lexer": "ipython3",
   "version": "3.9.13"
  }
 },
 "nbformat": 4,
 "nbformat_minor": 5
}
