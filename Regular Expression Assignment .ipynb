{
 "cells": [
  {
   "cell_type": "markdown",
   "id": "b25d90ab",
   "metadata": {},
   "source": [
    "# Question 1- Write a Python program to check that a string contains only a certain set of characters (in this case a-z, A-Z and 0-9)."
   ]
  },
  {
   "cell_type": "code",
   "execution_count": null,
   "id": "6c507de8",
   "metadata": {},
   "outputs": [],
   "source": [
    "import re\n",
    "my_string = input('enter a string: ')\n",
    "p = re.compile('[^0-9A-Za-z ]+')\n",
    "m = p.search(my_string)\n",
    "if m:\n",
    "    print('the sting contains', m.group(), 'at place', m.start())\n",
    "else:\n",
    "    print('the string contains only digits 0-9 and letters of english alphabet')"
   ]
  },
  {
   "cell_type": "markdown",
   "id": "cdbcf9f0",
   "metadata": {},
   "source": [
    "# Question 2- Create a function in python that matches a string that has an a followed by zero or more b's"
   ]
  },
  {
   "cell_type": "code",
   "execution_count": null,
   "id": "c4a2836b",
   "metadata": {},
   "outputs": [],
   "source": [
    "import re\n",
    "my_string = input('enter a string ')\n",
    "p = re.compile('ab*?')\n",
    "m = p.search(my_string)\n",
    "if m:\n",
    "    print('it\\'s a match')\n",
    "else:\n",
    "    print('no match found')"
   ]
  },
  {
   "cell_type": "markdown",
   "id": "b69c1014",
   "metadata": {},
   "source": [
    "# Question 3-  Create a function in python that matches a string that has an a followed by one or more b's"
   ]
  },
  {
   "cell_type": "code",
   "execution_count": null,
   "id": "f5d7ed2a",
   "metadata": {},
   "outputs": [],
   "source": [
    "    import re\n",
    "my_string = input('enter a string ')\n",
    "p = re.compile('ab+?')\n",
    "m = p.search(my_string)\n",
    "if m:\n",
    "    print('it\\'s a match')\n",
    "else:\n",
    "    print('no match found')"
   ]
  },
  {
   "cell_type": "markdown",
   "id": "b9572c91",
   "metadata": {},
   "source": [
    "# Question 4- Create a function in Python and use RegEx that matches a string that has an a followed by zero or one 'b'."
   ]
  },
  {
   "cell_type": "code",
   "execution_count": null,
   "id": "9817bb78",
   "metadata": {},
   "outputs": [],
   "source": [
    "import re\n",
    "my_string = input('enter a string ')\n",
    "p = re.compile('ab??')\n",
    "m = p.search(my_string)\n",
    "if m:\n",
    "    print('it\\'s a match')\n",
    "else:\n",
    "    print('no match found')"
   ]
  },
  {
   "cell_type": "markdown",
   "id": "cb405fd6",
   "metadata": {},
   "source": [
    "# Question 5- Write a Python program that matches a string that has an a followed by three 'b'."
   ]
  },
  {
   "cell_type": "code",
   "execution_count": null,
   "id": "04e3723c",
   "metadata": {},
   "outputs": [],
   "source": [
    "import re\n",
    "my_string = input('enter a string ')\n",
    "p = re.compile('ab{3}?')\n",
    "m = p.search(my_string)\n",
    "if m:\n",
    "    print('it\\'s a match')\n",
    "else:\n",
    "    print('no match found')"
   ]
  },
  {
   "cell_type": "markdown",
   "id": "4d0a24b7",
   "metadata": {},
   "source": [
    "# Question 6- Write a regular expression in Python to split a string into uppercase letters."
   ]
  },
  {
   "cell_type": "code",
   "execution_count": null,
   "id": "6a36e4c8",
   "metadata": {},
   "outputs": [],
   "source": [
    "import re\n",
    "my_string = input('enter a string ')\n",
    "p = re.compile('ab{2,3}?')\n",
    "m = p.search(my_string)\n",
    "if m:\n",
    "    print('it\\'s a match')\n",
    "else:\n",
    "    print('no match found')"
   ]
  },
  {
   "cell_type": "markdown",
   "id": "a2508cb9",
   "metadata": {},
   "source": [
    "# Question 6- Write a regular expression in Python to split a string into uppercase letters.\n",
    "Sample text: “ImportanceOfRegularExpressionsInPython”\n",
    "Output: [‘Importance’, ‘Of’, ‘Regular’, ‘Expression’, ‘In’, ‘Python’]\n"
   ]
  },
  {
   "cell_type": "code",
   "execution_count": null,
   "id": "3f23f389",
   "metadata": {},
   "outputs": [],
   "source": [
    "import re\n",
    "my_string = input('enter a string ')\n",
    "m = re.search('[^0-9A-Za-z_]+', my_string)\n",
    "if m:\n",
    "    print('no match found')\n",
    "else:\n",
    "    print('it\\'s a match')"
   ]
  },
  {
   "cell_type": "markdown",
   "id": "d084e546",
   "metadata": {},
   "source": [
    "# Question 7- Write a Python program that matches a string that has an a followed by two to three 'b'."
   ]
  },
  {
   "cell_type": "code",
   "execution_count": null,
   "id": "595d5ac8",
   "metadata": {},
   "outputs": [],
   "source": [
    "import re\n",
    "my_string = input('enter a string ')\n",
    "p = re.compile('ab{2,3}?')\n",
    "m = p.search(my_string)\n",
    "if m:\n",
    "    print('it\\'s a match')\n",
    "else:\n",
    "    print('no match found')"
   ]
  },
  {
   "cell_type": "markdown",
   "id": "67ed21cb",
   "metadata": {},
   "source": [
    "# Question 8- Write a Python program to find sequences of lowercase letters joined with a underscore."
   ]
  },
  {
   "cell_type": "code",
   "execution_count": null,
   "id": "be4bd8f2",
   "metadata": {},
   "outputs": [],
   "source": [
    "import re\n",
    "my_string = input('enter a string ')\n",
    "p = re.compile('[a-z]+_[a-z]+')\n",
    "m = p.search(my_string)\n",
    "if m:\n",
    "    print('it\\'s a match')\n",
    "else:\n",
    "    print('no match found')"
   ]
  },
  {
   "cell_type": "markdown",
   "id": "8737fc3a",
   "metadata": {},
   "source": [
    "# Question 9- Write a Python program that matches a string that has an 'a' followed by anything, ending in 'b'."
   ]
  },
  {
   "cell_type": "code",
   "execution_count": null,
   "id": "17541644",
   "metadata": {},
   "outputs": [],
   "source": [
    "import re\n",
    "my_string = input('enter a string ')\n",
    "p = re.compile('a.*?b$')\n",
    "m = p.search(my_string)\n",
    "if m:\n",
    "    print('it\\'s a match')\n",
    "else:\n",
    "    print('no match found')\n"
   ]
  },
  {
   "cell_type": "markdown",
   "id": "64659171",
   "metadata": {},
   "source": [
    "# Question 10- Write a Python program that matches a word at the beginning of a string."
   ]
  },
  {
   "cell_type": "code",
   "execution_count": null,
   "id": "725176a5",
   "metadata": {},
   "outputs": [],
   "source": [
    "import re\n",
    "my_string = input('enter a string ')\n",
    "m = re.match('^\\w+', my_string)\n",
    "if m:\n",
    "    print('it\\'s a match')\n",
    "else:\n",
    "    print('no match found')\n"
   ]
  },
  {
   "cell_type": "markdown",
   "id": "804978bf",
   "metadata": {},
   "source": [
    "# Question 11- Write a Python program to match a string that contains only upper and lowercase letters, numbers, and underscores."
   ]
  },
  {
   "cell_type": "code",
   "execution_count": null,
   "id": "29f25929",
   "metadata": {},
   "outputs": [],
   "source": [
    "import re\n",
    "my_string = input('enter a string ')\n",
    "m = re.search('[^0-9A-Za-z_]+', my_string)\n",
    "if m:\n",
    "    print('no match found')\n",
    "else:\n",
    "    print('it\\'s a match')"
   ]
  },
  {
   "cell_type": "markdown",
   "id": "ef98efa1",
   "metadata": {},
   "source": [
    "# Write a Python program where a string will start with a specific number. "
   ]
  },
  {
   "cell_type": "code",
   "execution_count": null,
   "id": "643ecedd",
   "metadata": {},
   "outputs": [],
   "source": [
    "import re\n",
    "my_string = input('enter a string ')\n",
    "my_number = input('enter a number ')\n",
    "m = re.match(my_number, my_string)\n",
    "if m:\n",
    "    print('it\\'s a match')\n",
    "else:\n",
    "    print('no match found')"
   ]
  },
  {
   "cell_type": "markdown",
   "id": "90b71296",
   "metadata": {},
   "source": [
    "# Question 13- Write a Python program to remove leading zeros from an IP address\n",
    "\n"
   ]
  },
  {
   "cell_type": "code",
   "execution_count": null,
   "id": "296fd639",
   "metadata": {},
   "outputs": [],
   "source": [
    "import re\n",
    "my_IP = input('enter a string ')\n",
    "my_clean_IP = re.sub('\\.0*', '.', my_IP)\n",
    "print(my_clean_IP)"
   ]
  },
  {
   "cell_type": "markdown",
   "id": "f21099dc",
   "metadata": {},
   "source": [
    "# Question 19- Write a Python program to convert a date of yyyy-mm-dd format to dd-mm-yyyy format."
   ]
  },
  {
   "cell_type": "code",
   "execution_count": null,
   "id": "f4ad9a29",
   "metadata": {},
   "outputs": [],
   "source": [
    "import re\n",
    "date = '2018-03-31'\n",
    "m = re.split('-', date)\n",
    "new_date = '-'.join(m[::-1])\n",
    "print(new_date)\n"
   ]
  },
  {
   "cell_type": "code",
   "execution_count": null,
   "id": "6ec1034d",
   "metadata": {},
   "outputs": [],
   "source": [
    "Question 17- Write a Python program to find the substrings within a string.\n",
    "Sample text : 'Python exercises, PHP exercises, C# exercises'\n",
    "Pattern : 'exercises'\n"
   ]
  },
  {
   "cell_type": "code",
   "execution_count": null,
   "id": "affabd52",
   "metadata": {},
   "outputs": [],
   "source": [
    "import re\n",
    "my_string = 'Python exercises, PHP exercises, C# exercises'\n",
    "my_substring = 'exercises'\n",
    "m = re.findall(my_substring, my_string)\n",
    "if m:\n",
    "    print('it\\'s a match', len(m))\n",
    "else:\n",
    "    print('no match found')"
   ]
  },
  {
   "cell_type": "markdown",
   "id": "0aa3b61f",
   "metadata": {},
   "source": [
    "# 22. Write a Python program to find the occurrence and position of the\n",
    "substrings within a string."
   ]
  },
  {
   "cell_type": "code",
   "execution_count": null,
   "id": "a3cdcec1",
   "metadata": {},
   "outputs": [],
   "source": [
    "import re\n",
    "my_string = 'Python exercises, PHP exercises, C# exercises'\n",
    "my_substring = 'exercises'\n",
    "m = re.finditer(my_substring, my_string)\n",
    "for match in m:\n",
    "    print('string \\'{}\\''.format(my_substring), 'found at position', match.span())"
   ]
  },
  {
   "cell_type": "markdown",
   "id": "57e7108a",
   "metadata": {},
   "source": [
    "# Question 30- Write a Python program to replace all occurrences of a space, comma, or dot with a colon.\n",
    "Sample Text- 'Python Exercises, PHP exercises.'\n",
    "Output: Python:Exercises::PHP:exercises:\n",
    "\n"
   ]
  },
  {
   "cell_type": "code",
   "execution_count": null,
   "id": "29706839",
   "metadata": {},
   "outputs": [],
   "source": [
    "import re\n",
    "my_string = 'Python exercises, PHP exercises, C# exercises'\n",
    "my_substring = 'exercises'\n",
    "m = re.finditer(my_substring, my_string)\n",
    "for match in m:\n",
    "    print('string \\'{}\\''.format(my_substring), 'found at position', match.span())"
   ]
  },
  {
   "cell_type": "code",
   "execution_count": null,
   "id": "c1577d4e",
   "metadata": {},
   "outputs": [],
   "source": []
  }
 ],
 "metadata": {
  "kernelspec": {
   "display_name": "Python 3 (ipykernel)",
   "language": "python",
   "name": "python3"
  },
  "language_info": {
   "codemirror_mode": {
    "name": "ipython",
    "version": 3
   },
   "file_extension": ".py",
   "mimetype": "text/x-python",
   "name": "python",
   "nbconvert_exporter": "python",
   "pygments_lexer": "ipython3",
   "version": "3.9.13"
  }
 },
 "nbformat": 4,
 "nbformat_minor": 5
}
