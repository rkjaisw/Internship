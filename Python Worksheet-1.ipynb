{
 "cells": [
  {
   "cell_type": "markdown",
   "id": "ed489802",
   "metadata": {},
   "source": [
    "Qus11. Write a python program to find the factorial of a number."
   ]
  },
  {
   "cell_type": "code",
   "execution_count": 3,
   "id": "81afdd2f",
   "metadata": {},
   "outputs": [
    {
     "name": "stdout",
     "output_type": "stream",
     "text": [
      "enter number:4\n",
      "factorail of 4 is 24\n"
     ]
    }
   ],
   "source": [
    "number=int(input(\"enter number:\"))\n",
    "factorial=1\n",
    "if number <0:\n",
    "    print(\"factorial does not exist\")\n",
    "elif number==0:\n",
    "    print(\"factorail 0 is 1\")\n",
    "else:\n",
    "    for i in range(1, number+1):\n",
    "        factorial=factorial*i\n",
    "    print(\"factorail of\",number,\"is\",factorial)"
   ]
  },
  {
   "cell_type": "markdown",
   "id": "8b8d2835",
   "metadata": {},
   "source": [
    "Qus12.Write a python program to find whether a number is prime or composite."
   ]
  },
  {
   "cell_type": "code",
   "execution_count": 25,
   "id": "e7270650",
   "metadata": {},
   "outputs": [
    {
     "name": "stdout",
     "output_type": "stream",
     "text": [
      "enter any number8\n",
      "8 is not prime but composite number\n"
     ]
    }
   ],
   "source": [
    "n= int(input(\"enter any number\"))\n",
    "if(n ==0 or n ==1):\n",
    "    printf(n,\"Number is neither prime nor composite\")\n",
    "elif n>1:\n",
    "    for i in range(2,n):\n",
    "        if(n%i ==0):\n",
    "            print(n,\"is not prime but composite number\")\n",
    "            break\n",
    "else:\n",
    "    print(n,\"number is prime but not composite number\")\n",
    "\n",
    "    % Run 'compositeor prime.py'"
   ]
  },
  {
   "cell_type": "markdown",
   "id": "3fffa207",
   "metadata": {},
   "source": [
    "Qus13.Write a python program to check whether a given string is palindrome or not."
   ]
  },
  {
   "cell_type": "code",
   "execution_count": 29,
   "id": "3fe4c472",
   "metadata": {},
   "outputs": [
    {
     "name": "stdout",
     "output_type": "stream",
     "text": [
      "Enter string:madam\n",
      "The string is a palindrome\n"
     ]
    }
   ],
   "source": [
    "my_string=input(\"Enter string:\")\n",
    "if(my_string==my_string[::-1]):\n",
    "    print(\"The string is a palindrome\")\n",
    "else:\n",
    "    print(\"The string isn't a palindrome\")"
   ]
  },
  {
   "cell_type": "code",
   "execution_count": 30,
   "id": "445b6fac",
   "metadata": {},
   "outputs": [
    {
     "name": "stdout",
     "output_type": "stream",
     "text": [
      "Enter string:python\n",
      "The string isn't a palindrome\n"
     ]
    }
   ],
   "source": [
    "my_string=input(\"Enter string:\")\n",
    "if(my_string==my_string[::-1]):\n",
    "    print(\"The string is a palindrome\")\n",
    "else:\n",
    "    print(\"The string isn't a palindrome\")"
   ]
  },
  {
   "cell_type": "markdown",
   "id": "d1a43a74",
   "metadata": {},
   "source": [
    "Qus14.Write a Python program to get the third side of right-angled triangle from two given sides."
   ]
  },
  {
   "cell_type": "code",
   "execution_count": 34,
   "id": "142a14dc",
   "metadata": {},
   "outputs": [
    {
     "name": "stdout",
     "output_type": "stream",
     "text": [
      "Hypotenuse = 5.0\n",
      "Adjacent = 4.0\n",
      "Opposite = 3.0\n",
      "You know the answer!\n"
     ]
    }
   ],
   "source": [
    "def pythagoras(opposite_side,adjacent_side,hypotenuse):\n",
    "        if opposite_side == str(\"x\"):\n",
    "            return (\"Opposite = \" + str(((hypotenuse**2) - (adjacent_side**2))**0.5))\n",
    "        elif adjacent_side == str(\"x\"):\n",
    "            return (\"Adjacent = \" + str(((hypotenuse**2) - (opposite_side**2))**0.5))\n",
    "        elif hypotenuse == str(\"x\"):\n",
    "            return (\"Hypotenuse = \" + str(((opposite_side**2) + (adjacent_side**2))**0.5))\n",
    "        else:\n",
    "            return \"You know the answer!\"\n",
    "    \n",
    "print(pythagoras(3,4,'x'))\n",
    "print(pythagoras(3,'x',5))\n",
    "print(pythagoras('x',4,5))\n",
    "print(pythagoras(3,4,5))"
   ]
  },
  {
   "cell_type": "markdown",
   "id": "a4ec9c01",
   "metadata": {},
   "source": [
    "Qus15.Write a python program to print the frequency of each of the characters present in a given string."
   ]
  },
  {
   "cell_type": "code",
   "execution_count": 37,
   "id": "1366787b",
   "metadata": {},
   "outputs": [
    {
     "name": "stdout",
     "output_type": "stream",
     "text": [
      "Enter the string: mypython\n",
      "m,1\n",
      "y,2\n",
      "p,1\n",
      "t,1\n",
      "h,1\n",
      "o,1\n",
      "n,1\n"
     ]
    }
   ],
   "source": [
    "string=input(\"Enter the string: \")\n",
    "str1=list(string)\n",
    "strlist=[]\n",
    "for j in str1:\n",
    "    if j not in strlist:\n",
    "       strlist.append(j)\n",
    "       count=0\n",
    "       for i in range(len(str1)):\n",
    "         if j==str1[i]:\n",
    "           count+=1\n",
    "       print(\"{},{}\".format(j,count))"
   ]
  },
  {
   "cell_type": "code",
   "execution_count": null,
   "id": "21340a6f",
   "metadata": {},
   "outputs": [],
   "source": []
  }
 ],
 "metadata": {
  "kernelspec": {
   "display_name": "Python 3 (ipykernel)",
   "language": "python",
   "name": "python3"
  },
  "language_info": {
   "codemirror_mode": {
    "name": "ipython",
    "version": 3
   },
   "file_extension": ".py",
   "mimetype": "text/x-python",
   "name": "python",
   "nbconvert_exporter": "python",
   "pygments_lexer": "ipython3",
   "version": "3.9.13"
  }
 },
 "nbformat": 4,
 "nbformat_minor": 5
}
